{
 "cells": [
  {
   "cell_type": "markdown",
   "id": "0b684bf7",
   "metadata": {},
   "source": [
    "# 第二节 变量的使用\n",
    "\n",
    "\n",
    "## 1.软件文件夹\n",
    "\n",
    "\n",
    "## 2.代码文件夹\n",
    "\n",
    "> file -> open -> 选择创建好的文件夹\n",
    "\n",
    "\n",
    "## 3.解释器的选择\n",
    "\n",
    "\n",
    "> file -> settings -> Project -> project interpretor"
   ]
  },
  {
   "cell_type": "code",
   "execution_count": 1,
   "id": "26b491cd",
   "metadata": {},
   "outputs": [
    {
     "name": "stdout",
     "output_type": "stream",
     "text": [
      "hello world\n"
     ]
    }
   ],
   "source": [
    "print('hello world')"
   ]
  },
  {
   "cell_type": "markdown",
   "id": "e79a4ef4",
   "metadata": {},
   "source": [
    "## 赋值\n",
    "\n",
    "> =就是赋值"
   ]
  },
  {
   "cell_type": "code",
   "execution_count": 2,
   "id": "4ae03062",
   "metadata": {},
   "outputs": [
    {
     "name": "stdout",
     "output_type": "stream",
     "text": [
      "内存地址： 1687168503984\n",
      "变量： 列夫·托尔斯泰\n"
     ]
    }
   ],
   "source": [
    "name = \"列夫·托尔斯泰\"\n",
    "\n",
    "# 输出内存地址\n",
    "print('内存地址：', id(name))\n",
    "\n",
    "# 输出变量\n",
    "print('变量：', name)"
   ]
  },
  {
   "cell_type": "markdown",
   "id": "5bc61acc",
   "metadata": {},
   "source": [
    "### 命名规则\n",
    "\n",
    "> 变量名⾃定义，要满⾜标识符命名规则\n",
    "\n",
    "标识符命名规则是Python中定义各种名字的时候的统⼀规范，具体如下：\n",
    "\n",
    "**规则：**\n",
    "\n",
    "- 由数字、字⺟、下划线组成\n",
    "\n",
    "**注意：**\n",
    "\n",
    "- 不能数字开头&纯数字\n",
    "- 不能使⽤python内置关键字\n",
    "- 不能用python类型"
   ]
  },
  {
   "cell_type": "code",
   "execution_count": 3,
   "id": "3da54129",
   "metadata": {},
   "outputs": [
    {
     "name": "stdout",
     "output_type": "stream",
     "text": [
      "内存地址1： 1687168505232\n",
      "内存地址2： 1687168504272\n",
      "内存地址3： 1687168503696\n"
     ]
    }
   ],
   "source": [
    "name1 = \"列夫·托尔斯泰\"\n",
    "name2 = \"列夫·托尔斯泰\"\n",
    "name3 = \"列夫·托尔斯泰\"\n",
    "\n",
    "# 输出内存地址\n",
    "print('内存地址1：', id(name1))\n",
    "print('内存地址2：', id(name2))\n",
    "print('内存地址3：', id(name3))"
   ]
  },
  {
   "cell_type": "markdown",
   "id": "2fbc482d",
   "metadata": {},
   "source": [
    "### 多变量赋值\n",
    "\n",
    "- Python允许你同时为多个变量赋值。\n",
    "- 变量多次赋值后, 变量名会指向最右边变量名的内存空间, 即最新的内存空间"
   ]
  },
  {
   "cell_type": "code",
   "execution_count": 4,
   "id": "0c2804e5",
   "metadata": {},
   "outputs": [
    {
     "name": "stdout",
     "output_type": "stream",
     "text": [
      "内存地址1： 1687168505904\n",
      "内存地址2： 1687168505904\n",
      "内存地址3： 1687168505904\n"
     ]
    }
   ],
   "source": [
    "name1 = name2 = name3 = \"列夫·托尔斯泰\"\n",
    "\n",
    "# 输出内存地址\n",
    "print('内存地址1：', id(name1))\n",
    "print('内存地址2：', id(name2))\n",
    "print('内存地址3：', id(name3))"
   ]
  },
  {
   "cell_type": "code",
   "execution_count": 5,
   "id": "46332f3a",
   "metadata": {},
   "outputs": [
    {
     "name": "stdout",
     "output_type": "stream",
     "text": [
      "张三 23 男 篮球\n",
      "姓名: 张三 年龄: 23 性别: 男 爱好: 篮球\n"
     ]
    }
   ],
   "source": [
    "name = '张三'\n",
    "age = 23\n",
    "sex = '男'\n",
    "love = '篮球'\n",
    "print(name, age, sex, love)\n",
    "print('姓名:', name, '年龄:', age, '性别:', sex, '爱好:', love)"
   ]
  },
  {
   "cell_type": "markdown",
   "id": "056c96dc",
   "metadata": {},
   "source": [
    "### 命名习惯\n",
    "\n",
    "**驼峰命名法**\n",
    "\n",
    "> ⼤驼峰：即每个单词⾸字⺟都⼤写，例如： MyName 。\n",
    ">\n",
    "> ⼩驼峰：第⼆个（含）以后的单词⾸字⺟⼤写，例如： myName 。\n",
    "\n",
    "下划线：例如： my_name 。\n",
    "\n",
    "## 认识数据类型\n",
    "\n",
    "> **在 Python ⾥为了应对不同的业务需求，也把数据分为不同的类型。**"
   ]
  },
  {
   "cell_type": "code",
   "execution_count": 6,
   "id": "f05a806d",
   "metadata": {},
   "outputs": [
    {
     "name": "stdout",
     "output_type": "stream",
     "text": [
      "10的数据类型: <class 'int'>\n",
      "10.0的数据类型: <class 'float'>\n",
      "-10的数据类型: <class 'int'>\n",
      "-10的数据类型: <class 'str'>\n"
     ]
    }
   ],
   "source": [
    "num = 10 # 整数型\n",
    "print(f\"{num}的数据类型: {type(num)}\")\n",
    "\n",
    "num = 10.0 # 浮点型\n",
    "print(f\"{num}的数据类型: {type(num)}\")\n",
    "\n",
    "num = -10 # 整数型\n",
    "print(f\"{num}的数据类型: {type(num)}\")\n",
    "\n",
    "char = '10' # 字符串\n",
    "print(f\"{num}的数据类型: {type(char)}\")"
   ]
  },
  {
   "cell_type": "markdown",
   "id": "ffd1ecb8",
   "metadata": {},
   "source": [
    "## 作业\n",
    "\n",
    "将个人属性分别放在列表，字典中输出"
   ]
  },
  {
   "cell_type": "code",
   "execution_count": 7,
   "id": "61db9ba0",
   "metadata": {},
   "outputs": [
    {
     "name": "stdout",
     "output_type": "stream",
     "text": [
      "----------列表中输出个人属性-----------\n",
      "['王五', 35, 170, '70kg', '男', '跑步'] \n",
      "\n",
      "----------字典中输出个人属性-----------\n",
      "{'姓名': '王五', '年龄': 35, '身高': '170', '体重': '70kg', '性别': '男', '爱好': '跑步'}\n"
     ]
    }
   ],
   "source": [
    "print(f\"{'列表中输出个人属性':-^30}\")\n",
    "person = ['王五', 35, 170, '70kg', '男', '跑步']\n",
    "print(person, '\\n')\n",
    "\n",
    "print('字典中输出个人属性'.center(30, '-'))\n",
    "person = {'姓名': '王五', '年龄': 35, '身高': '170', '体重': '70kg','性别': '男', '爱好': '跑步'}\n",
    "print(person)"
   ]
  }
 ],
 "metadata": {
  "kernelspec": {
   "display_name": "Python 3 (ipykernel)",
   "language": "python",
   "name": "python3"
  },
  "language_info": {
   "codemirror_mode": {
    "name": "ipython",
    "version": 3
   },
   "file_extension": ".py",
   "mimetype": "text/x-python",
   "name": "python",
   "nbconvert_exporter": "python",
   "pygments_lexer": "ipython3",
   "version": "3.11.2"
  }
 },
 "nbformat": 4,
 "nbformat_minor": 5
}
