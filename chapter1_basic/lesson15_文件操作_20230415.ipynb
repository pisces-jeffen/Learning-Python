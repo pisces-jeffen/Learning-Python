{
 "cells": [
  {
   "cell_type": "markdown",
   "id": "75222aa5",
   "metadata": {},
   "source": [
    "# 文件操作\n",
    "\n",
    "- **⽂件操作的作⽤**\n",
    "- **⽂件的基本操作**\n",
    "- **打开**\n",
    "- **读写**\n",
    "- **关闭**\n",
    "- **⽂件备份**\n",
    "- **⽂件和⽂件夹的操作**\n",
    "\n",
    "------\n",
    "\n",
    "\n",
    "\n",
    "## 文件操作的作用\n",
    "\n",
    "> **⽂件操作包含：打开、关闭、读、写、复制......**\n",
    ">\n",
    "> **⽂件操作的的作⽤是：读取内容、写⼊内容、备份内容......**\n",
    "\n",
    "⽂件操作的作⽤就是把⼀些内容(数据)存储存放起来，可以让程序下⼀次执⾏的时候直接使⽤，⽽不必重新制作⼀份，省时省⼒ 。\n",
    "\n",
    "\n",
    "\n",
    "## 文件操作的基本步骤打开⽂件\n",
    "\n",
    "- **打开⽂件**\n",
    "- **读写等操作**\n",
    "- **关闭⽂件**\n",
    "\n",
    "### 打开\n",
    "\n",
    "在python，使⽤open函数，可以打开⼀个已经存在的⽂件，或者创建⼀个新⽂件，语法如下：\n",
    "\n",
    "~~~python\n",
    "open(name,mode)\n",
    "~~~\n",
    "\n",
    "> **name：是要打开的⽬标⽂件名的字符串(可以包含⽂件所在的具体路径)。**\n",
    "> **mode：设置打开⽂件的模式(访问模式)：只读、写⼊、追加等。**\n",
    "\n",
    "\n",
    "\n",
    "| 模式 | 描述                                                         |\n",
    "| ---- | ------------------------------------------------------------ |\n",
    "| r    | 以只读方式打开文件。文件的指针将会放在文件的开头。这是默认模式。 |\n",
    "| rb   | 以二进制格式打开一个文件用于只读。文件指针将会放在文件的开头。这是默认模式。一般用于非文本文件如图片等。 |\n",
    "| r+   | 打开一个文件用于读写。文件指针将会放在文件的开头。           |\n",
    "| rb+  | 以二进制格式打开一个文件用于读写。文件指针将会放在文件的开头。一般用于非文本文件如图片等。 |\n",
    "| w    | 打开一个文件只用于写入。如果该文件已存在则打开文件，并从开头开始编辑，即原有内容会被删除。如果该文件不存在，创建新文件。 |\n",
    "| wb   | 以二进制格式打开一个文件只用于写入。如果该文件已存在则打开文件，并从开头开始编辑，即原有内容会被删除。如果该文件不存在，创建新文件。一般用于非文本文件如图片等。 |\n",
    "| w+   | 打开一个文件用于读写。如果该文件已存在则打开文件，并从开头开始编辑，即原有内容会被删除。如果该文件不存在，创建新文件。 |\n",
    "| wb+  | 以二进制格式打开一个文件用于读写。如果该文件已存在则打开文件，并从开头开始编辑，即原有内容会被删除。如果该文件不存在，创建新文件。一般用于非文本文件如图片等。 |\n",
    "| a    | 打开一个文件用于追加。如果该文件已存在，文件指针将会放在文件的结尾。也就是说，新的内容将会被写入到已有内容之后。如果该文件不存在，创建新文件进行写入。 |\n",
    "| ab   | 以二进制格式打开一个文件用于追加。如果该文件已存在，文件指针将会放在文件的结尾。也就是说，新的内容将会被写入到已有内容之后。如果该文件不存在，创建新文件进行写入。 |\n",
    "| a+   | 打开一个文件用于读写。如果该文件已存在，文件指针将会放在文件的结尾。文件打开时会是追加模式。如果该文件不存在，创建新文件用于读写。 |\n",
    "| ab+  | 以二进制格式打开一个文件用于追加。如果该文件已存在，文件指针将会放在文件的结尾。如果该文件不存在，创建新文件用于读写。 |\n",
    "\n",
    "\n",
    "\n",
    "## 文件对象方法\n",
    "\n",
    "### 写入操作\n",
    "\n",
    "**语法**--w"
   ]
  },
  {
   "cell_type": "code",
   "execution_count": 1,
   "id": "6f7adc17",
   "metadata": {},
   "outputs": [],
   "source": [
    "from pathlib import Path\n",
    "path = Path('./test.txt')\n",
    "with open(path,'w') as file:\n",
    "    file.write(\"大家好呀,我是张三\\n\")"
   ]
  },
  {
   "cell_type": "markdown",
   "id": "7c9fd016",
   "metadata": {},
   "source": [
    "**语法**--a\n",
    "\n",
    "**w 和 a 模式：如果⽂件不存在则创建该⽂件；如果⽂件存在， w 模式先清空再写⼊， a 模式直接末尾追加。**"
   ]
  },
  {
   "cell_type": "code",
   "execution_count": 2,
   "id": "6eea4b46",
   "metadata": {},
   "outputs": [],
   "source": [
    "with open(path,'a') as file:\n",
    "    file.write(\"大家好呀,我是张三\")"
   ]
  },
  {
   "cell_type": "markdown",
   "id": "ffdb168b",
   "metadata": {},
   "source": [
    "### 读取操作\n",
    "\n",
    "* **read(num)**\n",
    "\n",
    "> num表示要从⽂件中读取的数据的⻓度"
   ]
  },
  {
   "cell_type": "code",
   "execution_count": 3,
   "id": "04778d4b",
   "metadata": {},
   "outputs": [
    {
     "name": "stdout",
     "output_type": "stream",
     "text": [
      "大家好呀,我是张三\n",
      "大家好呀,我是张三\n"
     ]
    }
   ],
   "source": [
    "with open(path,'r') as file:\n",
    "    content = file.read()\n",
    "print(content)"
   ]
  },
  {
   "cell_type": "markdown",
   "id": "95a4d9bb",
   "metadata": {},
   "source": [
    "* **readlines()和readline()**\n",
    "\n",
    "> readlines可以按照⾏的⽅式把整个⽂件中的内容进⾏⼀次性读取，并且返回的是⼀个列表，其中每⼀⾏的数据为⼀个元素"
   ]
  },
  {
   "cell_type": "code",
   "execution_count": 4,
   "id": "13d53e3d",
   "metadata": {},
   "outputs": [
    {
     "name": "stdout",
     "output_type": "stream",
     "text": [
      "['大家好呀,我是张三\\n', '大家好呀,我是张三']\n"
     ]
    }
   ],
   "source": [
    "with open(path,'r') as file:\n",
    "    content = file.readlines()\n",
    "print(content)"
   ]
  },
  {
   "cell_type": "code",
   "execution_count": 5,
   "id": "1d017aa9",
   "metadata": {},
   "outputs": [
    {
     "name": "stdout",
     "output_type": "stream",
     "text": [
      "大家好呀,我是张三\n",
      "\n"
     ]
    }
   ],
   "source": [
    "with open(path,'r') as file:\n",
    "    content = file.readline()\n",
    "print(content)"
   ]
  },
  {
   "cell_type": "markdown",
   "id": "23d311f2",
   "metadata": {},
   "source": [
    "*  **seek()**\n",
    "\n",
    "> 作⽤：⽤来移动⽂件指针。\n",
    "\n",
    "**语法**\n",
    "\n",
    "~~~python\n",
    "⽂件对象.seek(偏移量, 起始位置)\n",
    "~~~\n",
    "\n",
    "0：⽂件开头\n",
    "1：当前位置\n",
    "2：⽂件结尾\n",
    "\n",
    "\n",
    "\n",
    "### ⽂件备份\n",
    "\n",
    "需求：⽤户输⼊当前⽬录下任意⽂件名，程序完成对该⽂件的备份功能(备份⽂件名为xx[备份]后缀，例如：demo[备份].txt)\n",
    "\n",
    "1. 接收⽤户输⼊的⽂件名\n",
    "2. 规划备份⽂件名\n",
    "3. 备份⽂件写⼊数据\n",
    "\n",
    "#### 代码实现\n",
    "\n",
    "**接收⽤户输⼊⽬标⽂件名**\n",
    "\n",
    "​\t1、提取⽬标⽂件后缀\n",
    "​\t2、组织备份的⽂件名，xx[备份]后缀"
   ]
  },
  {
   "cell_type": "code",
   "execution_count": 6,
   "id": "9b632a5c",
   "metadata": {},
   "outputs": [
    {
     "name": "stdout",
     "output_type": "stream",
     "text": [
      "请输入文件名:1.txt\n",
      "1备份.txt\n"
     ]
    }
   ],
   "source": [
    "name = input(\"请输入文件名:\")\n",
    "\n",
    "# 后缀中.的下标\n",
    "index = name.rfind(\".\")\n",
    "\n",
    "# print(name[:index])\n",
    "# print(name[index:])\n",
    "\n",
    "new_name = name[:index]+\"备份\"+name[index:]\n",
    "print(new_name)"
   ]
  },
  {
   "cell_type": "markdown",
   "id": "064b08e1",
   "metadata": {},
   "source": [
    "**备份⽂件写⼊数据**\n",
    "\n",
    "1、打开源⽂件 和 备份⽂件\n",
    "\n",
    "2、将源⽂件数据写⼊备份⽂件\n",
    "\n",
    "3、关闭⽂件\n",
    "\n",
    "代码演示"
   ]
  },
  {
   "cell_type": "code",
   "execution_count": 8,
   "id": "c80b1f4d",
   "metadata": {},
   "outputs": [
    {
     "name": "stdout",
     "output_type": "stream",
     "text": [
      "请输入文件名:test.txt\n"
     ]
    }
   ],
   "source": [
    "# -*- coding:utf-8 -*-\n",
    "old_name = input(\"请输入文件名:\")\n",
    "index = old_name.rfind(\".\")\n",
    "\n",
    "# print(name[:index])\n",
    "# print(name[index:])\n",
    "\n",
    "new_name = old_name[:index]+\"备份\"+old_name[index:]\n",
    "\n",
    "old_f = open(old_name,\"rb\")\n",
    "new_f = open(new_name,\"ab\")\n",
    "\n",
    "while True:\n",
    "    cont = old_f.read()\n",
    "    if len(cont) == 0:\n",
    "        break\n",
    "    new_f.write(cont)\n",
    "\n",
    "old_f.close()\n",
    "new_f.close()"
   ]
  },
  {
   "cell_type": "markdown",
   "id": "e6cb6b1a",
   "metadata": {},
   "source": [
    "## 文件和文件夹的操作\n",
    "\n",
    "> 在Python中⽂件和⽂件夹的操作要借助os模块⾥⾯的相关功能，具体步骤如下\n",
    "\n",
    "1、导入os模块\n",
    "\n",
    "~~~python\n",
    "import os\n",
    "~~~\n",
    "\n",
    "⽂件重命名\n",
    "\n",
    "~~~python\n",
    "os.rename(⽬标⽂件名, 新⽂件名)\n",
    "~~~\n",
    "\n",
    "删除⽂件\n",
    "\n",
    "~~~python\n",
    "os.remove(⽬标⽂件名)\n",
    "~~~\n",
    "\n",
    "创建⽂件夹\n",
    "\n",
    "~~~python\n",
    "os.mkdir(文件名名字)\n",
    "~~~\n",
    "\n",
    "删除⽂件夹\n",
    "\n",
    "~~~python\n",
    "os.rmdir(⽂件夹名字)\n",
    "~~~\n",
    "\n",
    "获取当前⽬录\n",
    "\n",
    "~~~\n",
    "os.getcwd()\n",
    "~~~\n",
    "\n",
    "改变默认⽬录\n",
    "\n",
    "~~~\n",
    "os.chdir(⽬录)\n",
    "~~~\n",
    "\n",
    "获取⽬录列表\n",
    "\n",
    "~~~\n",
    "os.listdir(⽬录)\n",
    "~~~\n",
    "\n",
    "\n",
    "\n",
    "## 批量重命名\n",
    "\n",
    "\n",
    "\n",
    "**文件夹添加字符串**"
   ]
  },
  {
   "cell_type": "code",
   "execution_count": null,
   "id": "7a7993ee",
   "metadata": {},
   "outputs": [],
   "source": [
    "import os\n",
    "\n",
    "file_list = os.listdir(\"E:\\python_basics\")\n",
    "print(file_list)\n",
    "for file in file_list[1:]:\n",
    "    new_name = \"python_\" + file\n",
    "    os.rename(file,new_name)"
   ]
  },
  {
   "cell_type": "markdown",
   "id": "112c3c04",
   "metadata": {},
   "source": [
    "**文件夹删除字符串**"
   ]
  },
  {
   "cell_type": "code",
   "execution_count": null,
   "id": "3189fd6d",
   "metadata": {},
   "outputs": [],
   "source": [
    "file_list = os.listdir()\n",
    "num = 2\n",
    "for file in file_list[1:]:\n",
    "    if num == 1:\n",
    "        new_name = \"python_\" + file\n",
    "    elif num == 2:\n",
    "        result = len(\"python_\")\n",
    "        new_name = file[result:]\n",
    "    os.rename(file,new_name)"
   ]
  },
  {
   "cell_type": "code",
   "execution_count": 9,
   "id": "72a560e3",
   "metadata": {},
   "outputs": [
    {
     "name": "stdout",
     "output_type": "stream",
     "text": [
      "登鹳雀楼\n",
      "王之涣\n",
      "白日依山尽\n",
      "黄河入海流\n",
      "欲穷千里目\n",
      "更上一层楼\n",
      "--------------------\n",
      "登鹳雀楼\n",
      "王之涣\n",
      "白日依山尽\n",
      "欲穷千里目\n",
      "更上一层楼\n"
     ]
    }
   ],
   "source": [
    "# 导入os模块\n",
    "import os\n",
    "# 将一首古诗写入txt文件中，然后再读取出来\n",
    "poem = ['登鹳雀楼', '王之涣', '白日依山尽', '黄河入海流', '欲穷千里目', '更上一层楼']\n",
    "# 打开文件\n",
    "path = os.getcwd() + '\\\\poem.txt'\n",
    "with open(path, 'w', encoding='utf-8') as f:\n",
    "    for line in poem:\n",
    "        f.write(line + '\\n')\n",
    "# 读取文件\n",
    "with open(path, 'r', encoding='utf-8') as f:\n",
    "    for line in f:\n",
    "        print(line, end='')\n",
    "print('-' * 20)\n",
    "# 删除文件中的第二句诗\n",
    "poem.pop(3)\n",
    "# 重新写入文件\n",
    "path = os.getcwd() + '\\\\poem.txt'\n",
    "with open(path, 'w', encoding='utf-8') as f:\n",
    "    for line in poem:\n",
    "        f.write(line + '\\n')\n",
    "# 读取文件\n",
    "with open(path, 'r', encoding='utf-8') as f:\n",
    "    for line in f:\n",
    "        print(line, end='')\n"
   ]
  }
 ],
 "metadata": {
  "kernelspec": {
   "display_name": "Python 3 (ipykernel)",
   "language": "python",
   "name": "python3"
  },
  "language_info": {
   "codemirror_mode": {
    "name": "ipython",
    "version": 3
   },
   "file_extension": ".py",
   "mimetype": "text/x-python",
   "name": "python",
   "nbconvert_exporter": "python",
   "pygments_lexer": "ipython3",
   "version": "3.11.2"
  }
 },
 "nbformat": 4,
 "nbformat_minor": 5
}
