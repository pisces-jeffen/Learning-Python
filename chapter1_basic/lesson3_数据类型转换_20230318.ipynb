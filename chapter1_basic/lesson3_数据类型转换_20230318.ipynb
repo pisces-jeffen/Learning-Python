{
 "cells": [
  {
   "cell_type": "code",
   "execution_count": 1,
   "id": "95c52aaa",
   "metadata": {},
   "outputs": [
    {
     "name": "stdout",
     "output_type": "stream",
     "text": [
      "全名制作人，大家好，我是，喜欢唱歌打篮球\n"
     ]
    }
   ],
   "source": [
    "# 简单输出，思考怎么在中间添加内容\n",
    "print(\"全名制作人，大家好，我是，喜欢唱歌打篮球\")"
   ]
  },
  {
   "cell_type": "markdown",
   "id": "213e69e3",
   "metadata": {},
   "source": [
    "## 格式化输出\n",
    "\n",
    "> 所谓的格式化输出即按照⼀定的格式输出内容。\n",
    "\n",
    "### 格式化符号\n",
    "\n",
    "| 格式符号 | 转换                                           |\n",
    "| -------- | ---------------------------------------------- |\n",
    "| **%s**   | **字符串**                                     |\n",
    "| **%d**   | **整数**                                       |\n",
    "| **%f**   | **浮点数**                                     |\n",
    "| %u       | 无符号十进制整数                               |\n",
    "| %o       | 八进制整数                                     |\n",
    "| %x       | 十六进制整数（小写OX）                         |\n",
    "| %e       | 小数点后面六位有效数字，以指数形式输出实数     |\n",
    "| %g       | 根据大小自动选f格式或e格式，且不输出无意义的零 |"
   ]
  },
  {
   "cell_type": "code",
   "execution_count": 2,
   "id": "c98e400f",
   "metadata": {},
   "outputs": [
    {
     "name": "stdout",
     "output_type": "stream",
     "text": [
      "全名制作人，大家好，我是坤哥，喜欢唱歌打篮球\n"
     ]
    }
   ],
   "source": [
    "# 占位符\n",
    "name = '坤哥'\n",
    "# %s 接受字符串，并且输出\n",
    "# 在当前字符串当中，使用%s给name占座\n",
    "print(\"全名制作人，大家好，我是%s，喜欢唱歌打篮球\"% name)"
   ]
  },
  {
   "cell_type": "code",
   "execution_count": 3,
   "id": "3869a61e",
   "metadata": {},
   "outputs": [
    {
     "name": "stdout",
     "output_type": "stream",
     "text": [
      "全名制作人，大家好，我是坤哥，今年18.0岁，喜欢唱歌打篮球\n",
      "全名制作人，大家好，我是坤哥，今年18岁，喜欢唱歌打篮球\n"
     ]
    }
   ],
   "source": [
    "age = 18.0\n",
    "age1 = '18'\n",
    "#无论整数，或者小数，都可以当做字符串来进行输出，不需要%d？\n",
    "print(\"全名制作人，大家好，我是坤哥，今年%s岁，喜欢唱歌打篮球\"%age)\n",
    "print(\"全名制作人，大家好，我是坤哥，今年%s岁，喜欢唱歌打篮球\"%age1)\n"
   ]
  },
  {
   "cell_type": "code",
   "execution_count": 4,
   "id": "9a2df365",
   "metadata": {},
   "outputs": [
    {
     "name": "stdout",
     "output_type": "stream",
     "text": [
      "打印输出123456的八进制: 361100\n",
      "打印输出123456的十进制: 123456\n",
      "打印输出123456的十六进制: 1e240\n"
     ]
    }
   ],
   "source": [
    "number = 123456\n",
    "print(\"打印输出123456的八进制: %o\"% number)\n",
    "print(\"打印输出123456的十进制: %d\"% number)\n",
    "print(\"打印输出123456的十六进制: %x\"% number)"
   ]
  },
  {
   "cell_type": "code",
   "execution_count": 5,
   "id": "0aad1a15",
   "metadata": {},
   "outputs": [
    {
     "name": "stdout",
     "output_type": "stream",
     "text": [
      "大家好，我是张三, 我今年18岁, 我的身高是156, 我喜欢篮球\n",
      "大家好，我是张三, 我今年18岁, 我的身高是155.68, 我喜欢篮球\n"
     ]
    }
   ],
   "source": [
    "name =\"张三\"\n",
    "age = 18\n",
    "height = 155.68\n",
    "love ='篮球'\n",
    "print(\"大家好，我是%s, 我今年%d岁, 我的身高是%.lf, 我喜欢%s\"%(name, age, height, love))\n",
    "print(\"大家好，我是%s, 我今年%s岁, 我的身高是%s, 我喜欢%s\"%(name,age,height,love))"
   ]
  },
  {
   "cell_type": "markdown",
   "id": "9edde62e",
   "metadata": {},
   "source": [
    "### format的用法\n",
    "\n",
    "相对基本格式化输出采用‘%’的方法，format()功能更强大，该函数把字符串当成一个模板，通过传入的参数进行格式化，并且使用大括号‘{}’作为特殊字符代替‘%’"
   ]
  },
  {
   "cell_type": "code",
   "execution_count": 6,
   "id": "14cd4682",
   "metadata": {},
   "outputs": [
    {
     "name": "stdout",
     "output_type": "stream",
     "text": [
      "大家好, 我是张三, 我今年18岁, 我的身高是155.68,我喜欢篮球\n",
      "大家好, 我是张三, 我今年18岁, 我的身高是155.68, 我喜欢篮球\n",
      "大家好, 我是张三,我今年18岁,我的身高是155.68,我喜欢篮球\n"
     ]
    }
   ],
   "source": [
    "# format 将需要占位的地方用{}代替\n",
    "#，使用当前类型的方法，format是字符串的方法\n",
    "print(\"大家好, 我是{}, 我今年{}岁, 我的身高是{},我喜欢{}\".format(name, age, height,love))\n",
    "# format(name-name) 等号左边的name是字符串当中里面的name，右边的是我们定义好的变量名\n",
    "print(\"大家好, 我是{name}, 我今年{age}岁, 我的身高是{height}, 我喜欢{love}\".format(love=love,height=height, age=age,name=name))\n",
    "print(\"大家好, 我是{a},我今年{b}岁,我的身高是{c},我喜欢{d}\".format(d=love, c=height, b=age, a=name))"
   ]
  },
  {
   "cell_type": "markdown",
   "id": "02817970",
   "metadata": {},
   "source": [
    "### f-string\n",
    "\n",
    "在字符串前面加上f以达到格式化的目的，在{}里加入对象，此为format的另一种形式"
   ]
  },
  {
   "cell_type": "code",
   "execution_count": 7,
   "id": "a1f0b7c1",
   "metadata": {},
   "outputs": [
    {
     "name": "stdout",
     "output_type": "stream",
     "text": [
      "大家好,我是张三,今年18岁,喜欢打游戏\n"
     ]
    }
   ],
   "source": [
    "ame = \"小明\"\n",
    "age = 18\n",
    "love = \"打游戏\"\n",
    "print(f\"大家好,我是{name},今年{age}岁,喜欢{love}\")"
   ]
  },
  {
   "cell_type": "markdown",
   "id": "a02ed7c4",
   "metadata": {},
   "source": [
    "### 转义字符\n",
    "\n",
    "> **\\n ：换⾏。**\n",
    ">\n",
    "> **\\t ：制表符，⼀个tab键（4个空格）的距离。**\n",
    ">\n",
    "> **\\   :  续行符**\n",
    ">\n",
    "> **\\\\'  :  单引号**\n",
    ">\n",
    "> **\\\\\" :  双引号**"
   ]
  },
  {
   "cell_type": "code",
   "execution_count": 8,
   "id": "c06d16d3",
   "metadata": {},
   "outputs": [
    {
     "name": "stdout",
     "output_type": "stream",
     "text": [
      "全名制作人, 大家好, 我是坤哥, 我喜欢'篮球'\n",
      "全名制作人，大家好，我是坤哥，我喜欢\"篮球\"\n"
     ]
    }
   ],
   "source": [
    "# 单引号里面可以套双引号，双引号里面也可以套单引号\n",
    "# 单引号里面套单引号，需要在内层单引号前面加上\n",
    "print('全名制作人, 大家好, 我是坤哥, 我喜欢\\'篮球\\'')\n",
    "#双引号里面套双引号，需要在内层双引号前面加上\n",
    "print(\"全名制作人，大家好，我是坤哥，我喜欢\\\"篮球\\\"\")"
   ]
  },
  {
   "cell_type": "markdown",
   "id": "73ed3670",
   "metadata": {},
   "source": [
    "# 输入\n",
    "\n",
    "> **在Python中，程序接收⽤户输⼊数据的功能即是输⼊**\n",
    "\n",
    "## 输入的特点\n",
    "\n",
    "- 当程序执⾏到 input ，等待⽤户输⼊，输⼊完成之后才继续向下执⾏。\n",
    "- 在Python中， input 接收⽤户输⼊后，⼀般存储到变量，⽅便使⽤。\n",
    "- 在Python中， input 会把接收到的任意⽤户输⼊的数据都当做字符串处理。\n",
    "- input后，所有的都是输入值都是字符串"
   ]
  },
  {
   "cell_type": "code",
   "execution_count": 9,
   "id": "7615dcd5",
   "metadata": {},
   "outputs": [
    {
     "name": "stdout",
     "output_type": "stream",
     "text": [
      "请输入账号:admin\n",
      "请输入密码:123456\n",
      "当前输入的账号是:admin, 当前输入的密码是: 123456\n"
     ]
    }
   ],
   "source": [
    "# 如果要连续输入，则需用多行input\n",
    "username = input(\"请输入账号:\")\n",
    "password = input(\"请输入密码:\")\n",
    "print(f\"当前输入的账号是:{username}, 当前输入的密码是: {password}\")"
   ]
  },
  {
   "cell_type": "code",
   "execution_count": 10,
   "id": "b33d2058",
   "metadata": {},
   "outputs": [
    {
     "name": "stdout",
     "output_type": "stream",
     "text": [
      "123456\n",
      "number1的类型是: <class 'int'>\n",
      "789.456\n",
      "number2的类型是: <class 'float'>\n",
      "['张三', '李四', '王五', '赵六'] <class 'list'>\n",
      "('张三', '李四', '王五', '赵六') <class 'tuple'>\n"
     ]
    }
   ],
   "source": [
    "# eval 脱外套 去引号\n",
    "# 引号里面必须是python类型\n",
    "var3 = \"123456\"\n",
    "var4 = \"789.456\"\n",
    "var5 =\"['张三', '李四', '王五', '赵六']\"\n",
    "var6 =\"('张三', '李四', '王五', '赵六')\"\n",
    "numberl = eval(var3)\n",
    "print(numberl)\n",
    "print(\"number1的类型是:\", type(numberl))\n",
    "number2 = eval(var4)\n",
    "print(number2)\n",
    "print(\"number2的类型是:\", type(number2))\n",
    "listl = eval(var5)\n",
    "print(eval(var5), type(eval(var5)))\n",
    "print(eval(var6), type(eval(var6)))"
   ]
  },
  {
   "cell_type": "markdown",
   "id": "bb8d7cde",
   "metadata": {},
   "source": [
    "## 作业\n",
    "\n",
    "使用input输入一个小数, 请尝试转换成：整数、保留两位小数并用对应格式化字符输出"
   ]
  },
  {
   "cell_type": "code",
   "execution_count": 11,
   "id": "3f47f0a4",
   "metadata": {},
   "outputs": [
    {
     "name": "stdout",
     "output_type": "stream",
     "text": [
      "请输入一个小数:123.789\n",
      "123.789的整数是:123\n",
      "123.789保留两位小数是:123.79\n"
     ]
    }
   ],
   "source": [
    "cmd = input(\"请输入一个小数:\")\n",
    "print(f\"{cmd}的整数是:{int(float(cmd))}\")\n",
    "print(f\"{cmd}保留两位小数是:{float(cmd):.2f}\")"
   ]
  }
 ],
 "metadata": {
  "kernelspec": {
   "display_name": "Python 3 (ipykernel)",
   "language": "python",
   "name": "python3"
  },
  "language_info": {
   "codemirror_mode": {
    "name": "ipython",
    "version": 3
   },
   "file_extension": ".py",
   "mimetype": "text/x-python",
   "name": "python",
   "nbconvert_exporter": "python",
   "pygments_lexer": "ipython3",
   "version": "3.11.2"
  }
 },
 "nbformat": 4,
 "nbformat_minor": 5
}
