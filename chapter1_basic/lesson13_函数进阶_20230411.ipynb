{
 "cells": [
  {
   "cell_type": "markdown",
   "id": "20376044",
   "metadata": {},
   "source": [
    "# 函数进阶\n",
    "\n",
    "- **多函数程序执⾏流程**\n",
    "- **拆包**\n",
    "- **递归**\n",
    "- **可变和不可变类型**\n",
    "\n",
    "## 多函数程序执⾏流程\n",
    "\n",
    "* **共用全局变量**\n",
    "> **在Python中，函数必须先定义后使⽤。**"
   ]
  },
  {
   "cell_type": "code",
   "execution_count": 1,
   "id": "27379f73",
   "metadata": {},
   "outputs": [
    {
     "name": "stdout",
     "output_type": "stream",
     "text": [
      "100\n"
     ]
    }
   ],
   "source": [
    "# 1. 定义全局变量\n",
    "num = 0\n",
    "def test1():\n",
    "     global num\n",
    "\t # 修改全局变量\n",
    "     num = 100\n",
    "def test2():\n",
    "     # 调⽤test1函数中修改后的全局变量\n",
    "     print(num)\n",
    " \n",
    "\n",
    "test1()\n",
    "\n",
    "test2() # 100"
   ]
  },
  {
   "cell_type": "markdown",
   "id": "5ff4147a",
   "metadata": {},
   "source": [
    "**返回值作为参数传递**"
   ]
  },
  {
   "cell_type": "code",
   "execution_count": 2,
   "id": "40770c11",
   "metadata": {},
   "outputs": [
    {
     "name": "stdout",
     "output_type": "stream",
     "text": [
      "50\n"
     ]
    }
   ],
   "source": [
    "def test1():\n",
    "    return 50\n",
    "    \n",
    "def test2(num):\n",
    "     print(num)\n",
    "# 1. 保存函数test1的返回值\n",
    "result = test1()\n",
    "# 2.将函数返回值所在变量作为参数传递到test2函数\n",
    "test2(result) # 50"
   ]
  },
  {
   "cell_type": "markdown",
   "id": "fcec5b38",
   "metadata": {},
   "source": [
    "## 拆包和交换变量值\n",
    "\n",
    "* **拆包-元组**"
   ]
  },
  {
   "cell_type": "code",
   "execution_count": 3,
   "id": "59d8bfdb",
   "metadata": {},
   "outputs": [
    {
     "name": "stdout",
     "output_type": "stream",
     "text": [
      "1\n",
      "2\n",
      "3\n"
     ]
    }
   ],
   "source": [
    "t1 = (1,2,3)\n",
    "a,b,c = t1\n",
    "print(a)\n",
    "print(b)\n",
    "print(c)"
   ]
  },
  {
   "cell_type": "markdown",
   "id": "2c22d914",
   "metadata": {},
   "source": [
    "### 关键字参数\n",
    "\n",
    "> **关键字参数和函数调用关系紧密，函数调用使用关键字参数来确定传入的参数值。**"
   ]
  },
  {
   "cell_type": "code",
   "execution_count": 4,
   "id": "6a8ef54f",
   "metadata": {},
   "outputs": [
    {
     "name": "stdout",
     "output_type": "stream",
     "text": [
      "我是张三,今年18岁\n"
     ]
    }
   ],
   "source": [
    "def demo3(name,age):\n",
    "    print(f\"我是{name},今年{age}岁\")\n",
    "    \n",
    "name = \"张三\"\n",
    "age = 18\n",
    "# 函数在调用的时候将定义好的name和age传递进去\n",
    "demo3(name,age)"
   ]
  },
  {
   "cell_type": "markdown",
   "id": "81b26ce0",
   "metadata": {},
   "source": [
    "* 函数返回多个值"
   ]
  },
  {
   "cell_type": "code",
   "execution_count": 5,
   "id": "9cf4d130",
   "metadata": {},
   "outputs": [
    {
     "name": "stdout",
     "output_type": "stream",
     "text": [
      "100\n",
      "200\n"
     ]
    }
   ],
   "source": [
    "def return_num():\n",
    "    return 100, 200\n",
    "    \n",
    "num1, num2 = return_num()\n",
    "print(num1) # 100\n",
    "print(num2) # 200"
   ]
  },
  {
   "cell_type": "markdown",
   "id": "5b6db827",
   "metadata": {},
   "source": [
    "## 递归\n",
    "\n",
    "- **函数内部⾃⼰调⽤⾃⼰**\n",
    "- **必须有出⼝**\n",
    "\n",
    "**1,2,3数字的累加和**"
   ]
  },
  {
   "cell_type": "code",
   "execution_count": 6,
   "id": "28bbc0e3",
   "metadata": {},
   "outputs": [
    {
     "name": "stdout",
     "output_type": "stream",
     "text": [
      "6\n"
     ]
    }
   ],
   "source": [
    "def sum_numbers(num):\n",
    "    if num == 1:\n",
    "        return 1\n",
    "    result = num + sum_numbers(num-1)\n",
    "    return result\n",
    "\n",
    "\n",
    "print(sum_numbers(3))"
   ]
  },
  {
   "cell_type": "markdown",
   "id": "f947db7d",
   "metadata": {},
   "source": [
    "**递归三原则：**\n",
    "\n",
    "- 递归必须有停止条件\n",
    "- 递归必须改变其状态并向停止条件靠近\n",
    "- 递归必须递归地调用自己"
   ]
  },
  {
   "cell_type": "markdown",
   "id": "37d3ddbd",
   "metadata": {},
   "source": [
    "## lambda 表达式\n",
    "\n",
    "lambda表达式，又名匿名函数\n",
    "\n",
    "**如果⼀个函数有⼀个返回值，并且只有⼀句代码，可以使⽤ lambda简化。**\n",
    "\n",
    "**语法**\n",
    "\n",
    "~~~python\n",
    "lambda 参数列表 ： 表达式\n",
    "~~~\n",
    "\n",
    "* 注意\n",
    "\n",
    "> **lambda表达式的参数可有可⽆，函数的参数在lambda表达式中完全适⽤。**\n",
    ">\n",
    "> **lambda函数能接收任何数量的参数，但只能返回⼀个表达式的值**\n",
    "\n",
    "\n",
    "\n",
    "**快速上手**"
   ]
  },
  {
   "cell_type": "code",
   "execution_count": 7,
   "id": "1ebe0b6d",
   "metadata": {},
   "outputs": [
    {
     "name": "stdout",
     "output_type": "stream",
     "text": [
      "200\n",
      "100\n"
     ]
    }
   ],
   "source": [
    "# 函数\n",
    "def fn1():\n",
    "    return 200\n",
    "\n",
    "print(fn1())\n",
    "\n",
    "# lambda表达式\n",
    "fn2 = lambda: 100\n",
    "print(fn2())"
   ]
  },
  {
   "cell_type": "markdown",
   "id": "274e25d9",
   "metadata": {},
   "source": [
    "**夹带参数**"
   ]
  },
  {
   "cell_type": "code",
   "execution_count": 8,
   "id": "cb77dd46",
   "metadata": {},
   "outputs": [
    {
     "name": "stdout",
     "output_type": "stream",
     "text": [
      "3\n",
      "3\n"
     ]
    }
   ],
   "source": [
    "# 函数\n",
    "def add(a, b):\n",
    "     return a + b\n",
    "    \n",
    "result = add(1, 2)\n",
    "print(result)\n",
    "\n",
    "# lambda表达式\n",
    "fn = (lambda a, b: a + b)(1, 2)\n",
    "print(fn)"
   ]
  },
  {
   "cell_type": "markdown",
   "id": "b69d3262",
   "metadata": {},
   "source": [
    "## lambda的参数形式\n",
    "\n",
    "* **无参数**"
   ]
  },
  {
   "cell_type": "code",
   "execution_count": 9,
   "id": "caa7ab42",
   "metadata": {},
   "outputs": [
    {
     "name": "stdout",
     "output_type": "stream",
     "text": [
      "100\n"
     ]
    }
   ],
   "source": [
    "fn = (lambda: 100)()\n",
    "print(fn)"
   ]
  },
  {
   "cell_type": "markdown",
   "id": "819b8afa",
   "metadata": {},
   "source": [
    "- **一个参数**"
   ]
  },
  {
   "cell_type": "code",
   "execution_count": 10,
   "id": "c9f047d8",
   "metadata": {},
   "outputs": [
    {
     "name": "stdout",
     "output_type": "stream",
     "text": [
      "1\n"
     ]
    }
   ],
   "source": [
    "fn = (lambda b: a)(\"hello python\")\n",
    "print(fn)"
   ]
  },
  {
   "cell_type": "markdown",
   "id": "61d67d29",
   "metadata": {},
   "source": [
    "- **默认参数**"
   ]
  },
  {
   "cell_type": "code",
   "execution_count": 11,
   "id": "8cb755e4",
   "metadata": {},
   "outputs": [
    {
     "name": "stdout",
     "output_type": "stream",
     "text": [
      "130\n"
     ]
    }
   ],
   "source": [
    "fn = (lambda a, b, c=100: a + b + c)(10, 20)\n",
    "print(fn)"
   ]
  },
  {
   "cell_type": "markdown",
   "id": "0210a258",
   "metadata": {},
   "source": [
    "- **不定长参数**"
   ]
  },
  {
   "cell_type": "code",
   "execution_count": 12,
   "id": "8a259888",
   "metadata": {},
   "outputs": [
    {
     "name": "stdout",
     "output_type": "stream",
     "text": [
      "(10, 20, 30)\n",
      "{'name': 'python', 'age': 20}\n"
     ]
    }
   ],
   "source": [
    "fn1 = (lambda *args: args)(10, 20, 30)\n",
    "print(fn1)\n",
    "\n",
    "fn2 = (lambda **kwargs: kwargs)(name='python', age=20)\n",
    "print(fn2)"
   ]
  },
  {
   "cell_type": "markdown",
   "id": "12df7beb",
   "metadata": {},
   "source": [
    "- **待判断的lambda**"
   ]
  },
  {
   "cell_type": "code",
   "execution_count": 13,
   "id": "d9cee23b",
   "metadata": {},
   "outputs": [
    {
     "name": "stdout",
     "output_type": "stream",
     "text": [
      "1000\n"
     ]
    }
   ],
   "source": [
    "fn = (lambda a, b: a if a > b else b)(1000, 500)\n",
    "print(fn)"
   ]
  },
  {
   "cell_type": "markdown",
   "id": "df3dca2b",
   "metadata": {},
   "source": [
    "- **列表数据按字典key的值排序**"
   ]
  },
  {
   "cell_type": "code",
   "execution_count": 14,
   "id": "12445113",
   "metadata": {},
   "outputs": [
    {
     "name": "stdout",
     "output_type": "stream",
     "text": [
      "[{'name': '王五', 'age': 22}, {'name': '张三', 'age': 20}, {'name': '李四', 'age': 19}]\n"
     ]
    }
   ],
   "source": [
    "students = [\n",
    "     {'name': '张三', 'age': 20},\n",
    "     {'name': '李四', 'age': 19},\n",
    "     {'name': '王五', 'age': 22}\n",
    " ]\n",
    "# 按age值升序排列\n",
    "students.sort(key=lambda x: x['age'], reverse=True)\n",
    "print(students)"
   ]
  },
  {
   "cell_type": "markdown",
   "id": "371e043d",
   "metadata": {},
   "source": [
    "## 内置函数\n",
    "\n",
    "* **abs()**\n",
    "\n",
    "> abs() 函数可以完成对数字求绝对值计算。"
   ]
  },
  {
   "cell_type": "code",
   "execution_count": 15,
   "id": "1aca3f52",
   "metadata": {},
   "outputs": [
    {
     "name": "stdout",
     "output_type": "stream",
     "text": [
      "3\n"
     ]
    }
   ],
   "source": [
    "def add_num(a, b):\n",
    "     return abs(a) + abs(b)\n",
    "result = add_num(-1, 2)\n",
    "print(result) # 3"
   ]
  },
  {
   "cell_type": "markdown",
   "id": "692c7cee",
   "metadata": {},
   "source": [
    "* **map(function, iterable)，**\n",
    "\n",
    "> 将传⼊的函数变量function作⽤到iterable变量的每个元素中，并将结果组成新的列表\n",
    "\n",
    "- function -- 函数\n",
    "- iterable -- 序列\n",
    "\n",
    "**实例**"
   ]
  },
  {
   "cell_type": "code",
   "execution_count": 16,
   "id": "a186ddfc",
   "metadata": {},
   "outputs": [
    {
     "name": "stdout",
     "output_type": "stream",
     "text": [
      "<map object at 0x000002CA186DB0D0>\n",
      "[1, 4, 9, 16, 25]\n"
     ]
    }
   ],
   "source": [
    "list1 = [1, 2, 3, 4, 5]\n",
    "def func(x):\n",
    "    return x ** 2\n",
    "\n",
    "result = map(func, list1)\n",
    "print(result)\n",
    "print(list(result))"
   ]
  },
  {
   "cell_type": "code",
   "execution_count": 17,
   "id": "1a18a8a6",
   "metadata": {},
   "outputs": [
    {
     "name": "stdout",
     "output_type": "stream",
     "text": [
      "[1, 4, 9, 16, 25]\n"
     ]
    }
   ],
   "source": [
    "print(list(map(lambda x: x ** 2, range(1, 6))))"
   ]
  },
  {
   "cell_type": "markdown",
   "id": "feaec24f",
   "metadata": {},
   "source": [
    "* **filter()**\n",
    "\n",
    "> filter(func, lst)函数⽤于过滤序列, 过滤掉不符合条件的元素, 返回⼀个 fifilter 对象,。如果要转换为列表"
   ]
  },
  {
   "cell_type": "code",
   "execution_count": 18,
   "id": "0b4e04b7",
   "metadata": {},
   "outputs": [
    {
     "name": "stdout",
     "output_type": "stream",
     "text": [
      "<filter object at 0x000002CA186DA9B0>\n",
      "[2, 4, 6, 8, 10]\n"
     ]
    }
   ],
   "source": [
    "list1 = [1, 2, 3, 4, 5, 6, 7, 8, 9, 10]\n",
    "def func(x):\n",
    "    return x % 2 == 0\n",
    "\n",
    "result = filter(func, list1)\n",
    "print(result)\n",
    "print(list(result))"
   ]
  },
  {
   "cell_type": "code",
   "execution_count": 19,
   "id": "466f82fa",
   "metadata": {},
   "outputs": [
    {
     "name": "stdout",
     "output_type": "stream",
     "text": [
      "[2, 4, 6, 8, 10]\n"
     ]
    }
   ],
   "source": [
    "print(list(filter(lambda x: x % 2 == 0, range(1, 11))))"
   ]
  },
  {
   "cell_type": "markdown",
   "id": "21e29bb5",
   "metadata": {},
   "source": [
    "# 作业\n",
    "\n",
    "**定义一个模拟ATM存款的函数和取钱的函数, 并将每次操作后余额打印出来**\n",
    "\n",
    "> **你身上有100元，存了60后，你身上还剩40，这时候ATM机有60**\n",
    ">\n",
    "> **你取了20块，这时候ATM机有40**"
   ]
  },
  {
   "cell_type": "code",
   "execution_count": 21,
   "id": "4e49bc45",
   "metadata": {},
   "outputs": [
    {
     "name": "stdout",
     "output_type": "stream",
     "text": [
      "身上原本有100元\n",
      "ATM机原本有0元\n",
      "-----------------\n",
      "存了60元\n",
      "存款后身上余额： 40\n",
      "存款后ATM机余额： 60\n",
      "-----------------\n",
      "取了20元\n",
      "取款后身上余额： 60\n",
      "取款后ATM机余额： 40\n"
     ]
    }
   ],
   "source": [
    "# 定义一个模拟ATM存款的函数和取钱的函数, 并将每次操作后余额打印出来\n",
    "# 你身上有100元，存了60后，你身上还剩40，这时候ATM机有60\n",
    "# 你取了20块，这时候ATM机有40\n",
    "# 分别定义身上余额和ATM机余额\n",
    "money = 100\n",
    "atm_money = 0\n",
    "print(f'身上原本有{money}元')\n",
    "print(f'ATM机原本有{atm_money}元')\n",
    "print('-----------------')\n",
    "\n",
    "# 定义存款函数\n",
    "def save_money(m):\n",
    "    global money\n",
    "    global atm_money\n",
    "    money -= m\n",
    "    atm_money += m\n",
    "    print(f'存了{m}元')\n",
    "    print('存款后身上余额：', money)\n",
    "    print('存款后ATM机余额：', atm_money)\n",
    "\n",
    "\n",
    "# 定义取款函数\n",
    "def take_money(m):\n",
    "    global money\n",
    "    global atm_money\n",
    "    money += m\n",
    "    atm_money -= m\n",
    "    print(f'取了{m}元')\n",
    "    print('取款后身上余额：', money)\n",
    "    print('取款后ATM机余额：', atm_money)\n",
    "\n",
    "\n",
    "# 调用函数\n",
    "if __name__ == '__main__':\n",
    "    save_money(60)\n",
    "    print('-----------------')\n",
    "    take_money(20)"
   ]
  }
 ],
 "metadata": {
  "kernelspec": {
   "display_name": "Python 3 (ipykernel)",
   "language": "python",
   "name": "python3"
  },
  "language_info": {
   "codemirror_mode": {
    "name": "ipython",
    "version": 3
   },
   "file_extension": ".py",
   "mimetype": "text/x-python",
   "name": "python",
   "nbconvert_exporter": "python",
   "pygments_lexer": "ipython3",
   "version": "3.11.2"
  }
 },
 "nbformat": 4,
 "nbformat_minor": 5
}
