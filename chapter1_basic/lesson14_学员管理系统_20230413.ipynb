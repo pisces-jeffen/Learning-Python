{
 "cells": [
  {
   "cell_type": "markdown",
   "id": "4b178812",
   "metadata": {},
   "source": [
    "# 学员管理系统\n",
    "\n",
    "\n",
    "\n",
    "## 系统简介\n",
    "\n",
    "**需求：进⼊系统显示系统功能界⾯，功能如下：**\n",
    "\n",
    "* **添加学员**\n",
    "\n",
    "* **删除学员**\n",
    "\n",
    "* **修改学员信息**\n",
    "\n",
    "* **查询学员信息**\n",
    "\n",
    "* **显示所有学员信息**\n",
    "\n",
    "* **退出系统**\n",
    "\n",
    " ### 步骤分析\n",
    "\n",
    "* **显示功能界⾯**\n",
    "\n",
    "* **⽤户输⼊功能序号**\n",
    "\n",
    "* **根据⽤户输⼊的功能序号，执⾏不同的功能(函数)**\n",
    "\n",
    "​\t\t**定义函数**\n",
    "\n",
    "​\t\t**调⽤函数**\n",
    "\n",
    "\n",
    "\n",
    "## 显示功能界⾯\n",
    "\n",
    "**进入程序，展示功能选择页面**\n",
    "\n",
    "![](.\\image\\管理系统界面.png)\n",
    "\n",
    "\n",
    "\n",
    "**⽤户输⼊序号，选择功能**\n",
    "\n",
    "> **⽤户选择系统功能的代码需要循环使⽤，直到⽤户主动退出系统。**\n",
    "\n",
    "\n",
    "\n",
    "## 定义不同功能的函数\n",
    "\n",
    "**所有功能函数都是操作学员信息，所有存储所有学员信息应该是⼀个全局变量，数据类型为列表**"
   ]
  },
  {
   "cell_type": "code",
   "execution_count": 1,
   "id": "ff572a24",
   "metadata": {},
   "outputs": [],
   "source": [
    "lise_data = []"
   ]
  },
  {
   "cell_type": "markdown",
   "id": "c57545d3",
   "metadata": {},
   "source": [
    "### 添加学员\n",
    "\n",
    "* **需求**\n",
    "\n",
    "  **1、接收⽤户输⼊学员信息，并保存**\n",
    "\n",
    "  **2、判断是否添加学员信息**\n",
    "\n",
    "  ​\t\t**---如果学员姓名已经存在，则输出提示，并重新添加**\n",
    "\n",
    "  ​\t\t**---如果学员姓名不存在，则准备空字典，将⽤户输⼊的数据追加到字典，再列表追加字典数据**\n",
    "\n",
    "  **3、对应的if条件成⽴的位置调⽤该函数**\n",
    "\n",
    "  **代码实现**"
   ]
  },
  {
   "cell_type": "code",
   "execution_count": 2,
   "id": "a6a2c225",
   "metadata": {},
   "outputs": [],
   "source": [
    "def add_data():\n",
    "    while True:\n",
    "        new_id = int(input(\"请输入学号：\"))\n",
    "        new_name = input(\"请输入姓名：\")\n",
    "        new_tel = input(\"请输入手机号：\")\n",
    "        global list_data\n",
    "\n",
    "        dict_data = {}\n",
    "        dict_data[\"id\"] = new_id\n",
    "        dict_data[\"name\"] = new_name\n",
    "        dict_data[\"tel\"] = new_tel\n",
    "        list_data.append(dict_data)\n",
    "        print(new_name, \"同学信息添加成功。。。\")\n",
    "        a = input(\"是否继续添加（1添加，2返回系统页面）\")\n",
    "        if a == \"2\":\n",
    "            print(list_data)\n",
    "            break"
   ]
  },
  {
   "cell_type": "markdown",
   "id": "37dac3a5",
   "metadata": {},
   "source": [
    "### 删除学员\n",
    "\n",
    "* **需求**\n",
    "\n",
    "​\t\t**按⽤户输⼊的学员学号进⾏删除**\n",
    "\n",
    "​\t\t\t\t**⽤户输⼊⽬标学员学号**\n",
    "\n",
    "​\t\t\t\t**检查这个学员是否存在**\n",
    "\n",
    "​\t\t\t\t\t\t**如果存在，则列表删除这个数据**\n",
    "\n",
    "​\t\t\t\t\t\t**如果不存在，输出不存在，并重新输⼊**\n",
    "\n",
    "​\t\t**对应的if条件成⽴的位置调⽤该函数**\n",
    "\n",
    "**代码实现**"
   ]
  },
  {
   "cell_type": "code",
   "execution_count": 4,
   "id": "b29f8cac",
   "metadata": {},
   "outputs": [
    {
     "name": "stdout",
     "output_type": "stream",
     "text": [
      "请输入要删除学员的id：1\n"
     ]
    },
    {
     "ename": "NameError",
     "evalue": "name 'list_data' is not defined",
     "output_type": "error",
     "traceback": [
      "\u001b[1;31m---------------------------------------------------------------------------\u001b[0m",
      "\u001b[1;31mNameError\u001b[0m                                 Traceback (most recent call last)",
      "Cell \u001b[1;32mIn[4], line 5\u001b[0m\n\u001b[0;32m      3\u001b[0m stu_id \u001b[38;5;241m=\u001b[39m \u001b[38;5;28mint\u001b[39m(\u001b[38;5;28minput\u001b[39m(\u001b[38;5;124m\"\u001b[39m\u001b[38;5;124m请输入要删除学员的id：\u001b[39m\u001b[38;5;124m\"\u001b[39m))\n\u001b[0;32m      4\u001b[0m \u001b[38;5;28;01mglobal\u001b[39;00m list_data\n\u001b[1;32m----> 5\u001b[0m \u001b[38;5;28;01mfor\u001b[39;00m data \u001b[38;5;129;01min\u001b[39;00m \u001b[43mlist_data\u001b[49m:\n\u001b[0;32m      6\u001b[0m     \u001b[38;5;28;01mif\u001b[39;00m stu_id \u001b[38;5;241m==\u001b[39m data[\u001b[38;5;124m\"\u001b[39m\u001b[38;5;124mid\u001b[39m\u001b[38;5;124m\"\u001b[39m]:\n\u001b[0;32m      7\u001b[0m         list_data\u001b[38;5;241m.\u001b[39mremove(data)\n",
      "\u001b[1;31mNameError\u001b[0m: name 'list_data' is not defined"
     ]
    }
   ],
   "source": [
    "    a = True\n",
    "    while a:\n",
    "        stu_id = int(input(\"请输入要删除学员的id：\"))\n",
    "        global list_data\n",
    "        for data in list_data:\n",
    "            if stu_id == data[\"id\"]:\n",
    "                list_data.remove(data)\n",
    "                print(\"删除成功\")\n",
    "                break\n",
    "        else:\n",
    "            print(\"当前学员id不存在\")\n",
    "        con = int(input(\"是否继续删除学员信息（1删除，2不删除）：\"))\n",
    "        if con == 2:\n",
    "            a = False\n",
    "    print(\"当前学员列表为：\", list_data)"
   ]
  },
  {
   "cell_type": "markdown",
   "id": "5646bff9",
   "metadata": {},
   "source": [
    "### 修改学员\n",
    "\n",
    "* **需求**\n",
    "\n",
    "​\t**⽤户输⼊⽬标学员学号**\n",
    "\n",
    "​\t**检查这个学员是否存在**\n",
    "\n",
    "​\t\t\t**如果存在，显示此学员信息，并供⽤户输⼊新的信息**\n",
    "\n",
    "​\t\t\t**如果不存在，则报错，并重新输⼊**\n",
    "\n",
    "​\t**对应的if条件成⽴的位置调⽤该函数**\n",
    "\n",
    "**代码实现**"
   ]
  },
  {
   "cell_type": "code",
   "execution_count": null,
   "id": "3c0bf8c5",
   "metadata": {},
   "outputs": [],
   "source": [
    "a = True\n",
    "while a:\n",
    "    stu_data = int(input(\"请输入要修改的学员学号：\"))\n",
    "    global list_data\n",
    "    for data in list_data:\n",
    "        if stu_data == data[\"id\"]:\n",
    "            data[\"id\"] = int(input(\"请输入修改后的id：\"))\n",
    "            data[\"name\"] = input(\"请输入修改后的姓名：\")\n",
    "            data[\"tel\"] = int(input(\"请输入修改后的电话：\"))\n",
    "            print(\"修改成功\")\n",
    "            break\n",
    "    else:\n",
    "        print(\"学员不存在\")\n",
    "    con = int(input(\"是否继续修改学员信息（1修改，2不修改）：\"))\n",
    "    if con == 2:\n",
    "        a = False\n",
    "print(list_data)"
   ]
  }
 ],
 "metadata": {
  "kernelspec": {
   "display_name": "Python 3 (ipykernel)",
   "language": "python",
   "name": "python3"
  },
  "language_info": {
   "codemirror_mode": {
    "name": "ipython",
    "version": 3
   },
   "file_extension": ".py",
   "mimetype": "text/x-python",
   "name": "python",
   "nbconvert_exporter": "python",
   "pygments_lexer": "ipython3",
   "version": "3.11.2"
  }
 },
 "nbformat": 4,
 "nbformat_minor": 5
}
