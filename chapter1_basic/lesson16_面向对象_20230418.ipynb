{
 "cells": [
  {
   "cell_type": "markdown",
   "id": "e7e0dafe",
   "metadata": {},
   "source": [
    "# ⾯向对象基础\n",
    "\n",
    "- **理解⾯向对象**\n",
    "- **类和对象**\n",
    "- **添加和获取对象属性**\n",
    "- **魔法⽅法**\n",
    "\n",
    "\n",
    "\n",
    "## 理解面向对象\n",
    "\n",
    "> **为了方便了解，我们拿面向过程做一个对比**\n",
    "\n",
    "例如：肚子饿了，想吃饭\n",
    "\n",
    "**面向过程：去超市---买菜---卖肉---买米---回家---洗菜---切肉---炒菜---煮米饭---盛饭---开吃**\n",
    "\n",
    "**面向对象：点外卖**\n",
    "\n",
    "总结：⾯向对象就是将编程当成是⼀个事物，对外界来说，事物是直接使⽤的，不⽤去管他内部的情况。⽽编程就是设置事物能够做什么事。\n",
    "\n",
    "\n",
    "\n",
    "## 类和对象\n",
    "\n",
    "思考：打电话需要用手机，这个手机就是一个对象，这个对象哪来的呢？\n",
    "\n",
    "答：它是制造出来的\n",
    "\n",
    "思考：怎么制造的？\n",
    "\n",
    "答：先构思图纸，再生产\n",
    "\n",
    "> **在⾯向对象编程过程中，有两个重要组成部分：类 和 对象。**\n",
    "\n",
    "* **类和对象的关系：⽤类去创建⼀个对象。**\n",
    "\n",
    "\n",
    "\n",
    "### 理解类和对象\n",
    "\n",
    "#### 类\n",
    "\n",
    "类是对⼀系列具有相同**特征**和**⾏为**的事物的统称，是⼀个**抽象的概念**，不是真实存在的事物\n",
    "\n",
    "- **特征即是属性**\n",
    "- **⾏为即是⽅法**\n",
    "\n",
    "类⽐如是制造手机时要⽤到的图纸，也就是说**类是⽤来创建对象**的\n",
    "\n",
    "#### 对象\n",
    "\n",
    "对象是类创建出来的真实存在的事物，例如：手机。\n",
    "\n",
    "> 注意：开发中，先有类，再有对象。\n",
    "\n",
    "\n",
    "\n",
    "## ⾯向对象实现⽅法\n",
    "\n",
    "**语法**\n",
    "\n",
    "~~~python\n",
    "class 类名():\n",
    "    代码\n",
    "    pass\n",
    "\n",
    "~~~\n",
    "\n",
    "> **注意：类名要满⾜标识符命名规则，同时遵循驼峰命名习惯**\n",
    "\n",
    "快速体验"
   ]
  },
  {
   "cell_type": "code",
   "execution_count": 1,
   "id": "84888dbb",
   "metadata": {},
   "outputs": [
    {
     "name": "stdout",
     "output_type": "stream",
     "text": [
      "我是第一个类\n"
     ]
    }
   ],
   "source": [
    "class My_Project():\n",
    "    print(\"我是第一个类\")"
   ]
  },
  {
   "cell_type": "markdown",
   "id": "ef748d2d",
   "metadata": {},
   "source": [
    "## 创建对象\n",
    "\n",
    "**语法**\n",
    "\n",
    "~~~\n",
    "# 变量名 = 类名()\n",
    "~~~\n",
    "\n",
    "**创建对象的过程也叫实例化对象**\n",
    "\n",
    "快速体验"
   ]
  },
  {
   "cell_type": "code",
   "execution_count": 2,
   "id": "1fb7fc63",
   "metadata": {},
   "outputs": [
    {
     "name": "stdout",
     "output_type": "stream",
     "text": [
      "<__main__.My_Phone object at 0x000001E221587850>\n",
      "正在打游戏\n"
     ]
    }
   ],
   "source": [
    "class My_Phone():\n",
    "\n",
    "    def call_tel(self):\n",
    "        print(\"正在打电话\")\n",
    "\n",
    "    def play_game(self):\n",
    "        print(\"正在打游戏\")\n",
    "\n",
    "# 创建对象\n",
    "apple = My_Phone()\n",
    "\n",
    "print(apple)\n",
    "\n",
    "# 调用对象的实例方法\n",
    "apple.play_game()"
   ]
  },
  {
   "cell_type": "markdown",
   "id": "2ab20deb",
   "metadata": {},
   "source": [
    "### self\n",
    "\n",
    "> **self代表类的实例**\n",
    "\n",
    "类的方法与普通的函数只有一个特别的区别——它们必须有一个额外的**第一个参数名称**, 按照惯例它的名称是 self。\n",
    "\n",
    "## 添加和获取对象属性\n",
    "\n",
    "> **属性即是特征，⽐如：手机的颜色，大小，重量...**\n",
    "> **对象属性既可以在类外⾯添加和获取，也能在类⾥⾯添加和获取。**\n",
    "\n",
    "\n",
    "\n",
    "### 类外⾯添加对象属性\n",
    "\n",
    "**语法**\n",
    "\n",
    "~~~python\n",
    "对象名.属性名 = 值\n",
    "~~~\n",
    "\n",
    "快速体验"
   ]
  },
  {
   "cell_type": "code",
   "execution_count": 3,
   "id": "ded7e180",
   "metadata": {},
   "outputs": [
    {
     "name": "stdout",
     "output_type": "stream",
     "text": [
      "10\n",
      "15\n"
     ]
    }
   ],
   "source": [
    "# -*- coding:utf-8 -*-\n",
    "class My_Phone():\n",
    "    def main(self):\n",
    "        pass\n",
    "\n",
    "apple = My_Phone()\n",
    "\n",
    "apple.width = 10\n",
    "apple.heigth = 15\n",
    "\n",
    "print(apple.width)\n",
    "print(apple.heigth)"
   ]
  },
  {
   "cell_type": "markdown",
   "id": "6d9a2d0e",
   "metadata": {},
   "source": [
    "### 类里面获取对象属性\n",
    "\n",
    "语法\n",
    "\n",
    "~~~\n",
    "self.属性名\n",
    "~~~\n",
    "\n",
    "\n",
    "\n",
    "**快速体验**"
   ]
  },
  {
   "cell_type": "code",
   "execution_count": 4,
   "id": "419d539a",
   "metadata": {},
   "outputs": [
    {
     "name": "stdout",
     "output_type": "stream",
     "text": [
      "10\n",
      "15\n"
     ]
    }
   ],
   "source": [
    "class My_Phone():\n",
    "    def main(self):\n",
    "        print(self.width)\n",
    "        print(self.heigth)\n",
    "\n",
    "apple = My_Phone()\n",
    "\n",
    "apple.width = 10\n",
    "apple.heigth = 15\n",
    "\n",
    "apple.main()"
   ]
  },
  {
   "cell_type": "markdown",
   "id": "3742df11",
   "metadata": {},
   "source": [
    "## 魔术方法\n",
    "\n",
    "在Python中，__ __xx____() 的函数叫做魔法⽅法，指的是具有特殊功能的函数。\n",
    "\n",
    "### ______init______()\n",
    "\n",
    "**手机的尺寸大小生来就有，那么能不能在生产之前就赋予属性呢？**\n",
    "\n",
    "**______init______() ：初始化对象**\n",
    "\n",
    "> ______init______() ⽅法，在创建⼀个对象时默认被调⽤，不需要⼿动调⽤\n",
    "\n",
    "> ________init________(self) 中的self参数，不需要开发者传递，python解释器会⾃动把当前的对象引⽤传递过去。"
   ]
  },
  {
   "cell_type": "code",
   "execution_count": 5,
   "id": "fd13cad4",
   "metadata": {},
   "outputs": [],
   "source": [
    "class My_Phone():\n",
    "    def __init__(self):\n",
    "        self.width = 10\n",
    "        self.heigth = 15\n",
    "\n",
    "    def main(self):\n",
    "        print(self.width)\n",
    "        print(self.heigth)\n",
    "\n",
    "apple = My_Phone()"
   ]
  },
  {
   "cell_type": "markdown",
   "id": "637e472d",
   "metadata": {},
   "source": [
    "* **带参数的init**\n",
    "\n",
    "⼀个类可以创建多个对象，如何对不同的对象设置不同的初始化属性呢？\n",
    "\n",
    "传参即可"
   ]
  },
  {
   "cell_type": "code",
   "execution_count": 6,
   "id": "a115d06b",
   "metadata": {},
   "outputs": [
    {
     "name": "stdout",
     "output_type": "stream",
     "text": [
      "苹果手机的宽为： 10\n",
      "苹果手机的高为： 20\n"
     ]
    }
   ],
   "source": [
    "class My_Phone():\n",
    "    def __init__(self,width,heigth):\n",
    "        self.width = width\n",
    "        self.heigth = heigth\n",
    "\n",
    "    def apple_phont(self):\n",
    "        print(\"苹果手机的宽为：\",self.width)\n",
    "        print(\"苹果手机的高为：\",self.heigth)\n",
    "\n",
    "    def huawei_phont(self):\n",
    "        print(\"华为手机的宽为：\",self.width)\n",
    "        print(\"华为手机的高为：\",self.heigth)\n",
    "\n",
    "apple = My_Phone(10,20)\n",
    "apple.apple_phont()"
   ]
  },
  {
   "cell_type": "markdown",
   "id": "8b32e96c",
   "metadata": {},
   "source": [
    "### ______str______()\n",
    "\n",
    "当使⽤print输出对象的时候，默认打印对象的内存地址。如果类定义了 __str__ ⽅法，那么就会打印从在这个⽅法中 return 的数据。\n",
    "\n",
    "解释类的属性或作用"
   ]
  },
  {
   "cell_type": "code",
   "execution_count": 7,
   "id": "1ea5d4c3",
   "metadata": {},
   "outputs": [
    {
     "name": "stdout",
     "output_type": "stream",
     "text": [
      "你这个手机的宽是10,高度是20\n"
     ]
    }
   ],
   "source": [
    "# -*- coding:utf-8 -*-\n",
    "\n",
    "class Demo():\n",
    "    def __init__(self, width, heigth):\n",
    "        self.width = width\n",
    "        self.heigth = heigth\n",
    "\n",
    "    def __str__(self):\n",
    "        return f\"你这个手机的宽是{self.width},高度是{self.heigth}\"\n",
    "\n",
    "a = Demo(10,20)\n",
    "print(a)"
   ]
  },
  {
   "cell_type": "markdown",
   "id": "e4837791",
   "metadata": {},
   "source": [
    "## 类属性与方法\n",
    "\n",
    "### 类的私有属性\n",
    "\n",
    "**__private_attrs**：两个下划线开头，声明该属性为私有，不能在类的外部被使用或直接访问"
   ]
  },
  {
   "cell_type": "code",
   "execution_count": 8,
   "id": "3f1dd5fd",
   "metadata": {},
   "outputs": [
    {
     "name": "stdout",
     "output_type": "stream",
     "text": [
      "1\n",
      "2\n",
      "2\n"
     ]
    },
    {
     "ename": "AttributeError",
     "evalue": "'Demo' object has no attribute '__num'",
     "output_type": "error",
     "traceback": [
      "\u001b[1;31m---------------------------------------------------------------------------\u001b[0m",
      "\u001b[1;31mAttributeError\u001b[0m                            Traceback (most recent call last)",
      "Cell \u001b[1;32mIn[8], line 14\u001b[0m\n\u001b[0;32m     12\u001b[0m run\u001b[38;5;241m.\u001b[39mcount()\n\u001b[0;32m     13\u001b[0m \u001b[38;5;28mprint\u001b[39m(run\u001b[38;5;241m.\u001b[39mresult)\n\u001b[1;32m---> 14\u001b[0m \u001b[38;5;28mprint\u001b[39m(\u001b[43mrun\u001b[49m\u001b[38;5;241;43m.\u001b[39;49m\u001b[43m__num\u001b[49m)    \u001b[38;5;66;03m# 报错，实例不能访问私有变量\u001b[39;00m\n",
      "\u001b[1;31mAttributeError\u001b[0m: 'Demo' object has no attribute '__num'"
     ]
    }
   ],
   "source": [
    "class Demo():\n",
    "    __num = 0  # 私有属性\n",
    "    result = 0  # 公开属性\n",
    "\n",
    "    def count(self):\n",
    "        self.__num += 1\n",
    "        self.result += 1\n",
    "        print(self.__num)\n",
    "\n",
    "run = Demo()\n",
    "run.count()\n",
    "run.count()\n",
    "print(run.result)\n",
    "print(run.__num)    # 报错，实例不能访问私有变量"
   ]
  },
  {
   "cell_type": "markdown",
   "id": "dafac150",
   "metadata": {},
   "source": [
    " ## 综合应用-烤地瓜\n",
    "\n",
    "需求涉及⼀个事物： 地⽠，故案例涉及⼀个类：地⽠类\n",
    "\n",
    "\n",
    "\n",
    "* **地⽠的属性**\n",
    "\n",
    "​\t\t--- 被烤的时间\n",
    "\n",
    "​\t\t--- 地⽠的状态\n",
    "\n",
    "​\t\t--- 添加的调料\n",
    "\n",
    "* **地⽠的⽅法**\n",
    "\n",
    "​\t\t\t**被烤**\n",
    "\n",
    "​\t\t\t\t\t--- ⽤户根据意愿设定每次烤地⽠的时间\n",
    "\n",
    "​\t\t\t\t\t--- 判断地⽠被烤的总时间是在哪个区间，修改地⽠状态\n",
    "\n",
    "​\t\t\t**添加调料**\n",
    "\n",
    "​\t\t\t\t\t--- ⽤户根据意愿设定添加的调料\n",
    "\n",
    "​\t\t\t\t\t--- 将⽤户添加的调料存储\n",
    "\n",
    "* **显示对象信息**\n",
    "\n",
    "### 需求\n",
    "\n",
    "1、被烤的时间和对应的地⽠状态：\n",
    "\n",
    "​\t\t0  -  5分钟 ：\t⽣的\n",
    "\n",
    "​\t\t5 - 10分钟 ：    半⽣不熟\n",
    "\n",
    "​\t\t10-12分钟 ：\t烤熟了\n",
    "\n",
    "​\t\t超过12分钟：   烤糊了\n",
    "\n",
    "2、添加调料：\n",
    "\n",
    "​\t\t\n",
    "\n",
    "### 代码实现"
   ]
  },
  {
   "cell_type": "code",
   "execution_count": 9,
   "id": "542bed51",
   "metadata": {},
   "outputs": [
    {
     "name": "stdout",
     "output_type": "stream",
     "text": [
      "当前地瓜考了--11--分钟，他的状态是--熟了--,添加的调料是--[('辣椒', '花生', '孜然')]\n"
     ]
    }
   ],
   "source": [
    "# -*- coding:utf-8 -*-\n",
    "\n",
    "class Test_Potato():\n",
    "    def __init__(self):\n",
    "        # 考的时间\n",
    "        self.cook_time = 0\n",
    "        # 考的状态\n",
    "        self.cook_sratic = \"生的\"\n",
    "        # 放的调料\n",
    "        self.cook_seasoning = [] \n",
    "\n",
    "    def cook(self, time):\n",
    "        self.cook_time += time\n",
    "        if 0 <= self.cook_time < 5:\n",
    "            self.cook_sratic = \"生的\"\n",
    "        if 5 <= self.cook_time < 10:\n",
    "            self.cook_sratic = \"半生半熟\"\n",
    "        if 10 <= self.cook_time <= 12:\n",
    "            self.cook_sratic = \"熟了\"\n",
    "        if self.cook_time > 12:\n",
    "            self.cook_sratic = \"烤糊了\"\n",
    "\n",
    "    def add_seasoning(self,*seasoning):\n",
    "        self.cook_seasoning.append(seasoning)\n",
    "\n",
    "    def __str__(self):\n",
    "        return f\"当前地瓜考了--{self.cook_time}--分钟，他的状态是--{self.cook_sratic}--,添加的调料是--{self.cook_seasoning}\"\n",
    "\n",
    "\n",
    "\n",
    "if __name__ == '__main__':\n",
    "    main = Test_Potato()\n",
    "    main.cook(11)\n",
    "    main.add_seasoning(\"辣椒\",\"花生\",\"孜然\")\n",
    "    print(main)\n"
   ]
  },
  {
   "cell_type": "markdown",
   "id": "ed7fe1f1",
   "metadata": {},
   "source": [
    "# 作业\n",
    "\n",
    "用类重新写取钱"
   ]
  },
  {
   "cell_type": "code",
   "execution_count": 10,
   "id": "4585b387",
   "metadata": {},
   "outputs": [
    {
     "name": "stdout",
     "output_type": "stream",
     "text": [
      "存了60元\n",
      "存款后身上余额： 40\n",
      "存款后ATM机余额： 60\n",
      "-----------------\n",
      "取了20元\n",
      "取款后身上余额： 60\n",
      "取款后ATM机余额： 40\n"
     ]
    }
   ],
   "source": [
    "class ATM:\n",
    "    def __init__(self, money):\n",
    "        self.money = money\n",
    "        self.atm_money = 0\n",
    "\n",
    "    def save_money(self, m):\n",
    "        self.money -= m\n",
    "        self.atm_money += m\n",
    "        print(f'存了{m}元')\n",
    "        print('存款后身上余额：', self.money)\n",
    "        print('存款后ATM机余额：', self.atm_money)\n",
    "\n",
    "    def take_money(self, m):\n",
    "        self.money += m\n",
    "        self.atm_money -= m\n",
    "        print(f'取了{m}元')\n",
    "        print('取款后身上余额：', self.money)\n",
    "        print('取款后ATM机余额：', self.atm_money)\n",
    "\n",
    "\n",
    "# 调用类\n",
    "if __name__ == '__main__':\n",
    "    atm = ATM(100)\n",
    "    atm.save_money(60)\n",
    "    print('-----------------')\n",
    "    atm.take_money(20)"
   ]
  },
  {
   "cell_type": "markdown",
   "id": "e2e44aa6",
   "metadata": {},
   "source": [
    "## 选做\n",
    "\n",
    "'''\n",
    "需求涉及⼀个事物： 地⽠，故案例涉及⼀个类：地⽠类\n",
    "地⽠的属性\n",
    " 被烤的时间\n",
    " 地⽠的状态\n",
    " 添加的调料\n",
    "地⽠的⽅法\n",
    " 被烤\n",
    "  ⽤户根据意愿设定每次烤地⽠的时间\n",
    "  判断地⽠被烤的总时间是在哪个区间，修改地⽠状态\n",
    " 添加调料\n",
    "  ⽤户根据意愿设定添加的调料\n",
    "  将⽤户添加的调料存储\n",
    "显示对象信息\n",
    "需求\n",
    "1、被烤的时间和对应的地⽠状态：\n",
    " 0 - 5分钟 ： ⽣的\n",
    " 5 - 10分钟 ： 半⽣不熟\n",
    " 10-12分钟 ： 烤熟了\n",
    " 超过12分钟： 烤糊了\n",
    "2、添加调料：\n",
    "'''"
   ]
  },
  {
   "cell_type": "code",
   "execution_count": 11,
   "id": "f014f3cf",
   "metadata": {},
   "outputs": [
    {
     "name": "stdout",
     "output_type": "stream",
     "text": [
      "请输入烤地瓜的时间：11\n",
      "请输入添加的调料：黑胡椒\n",
      "地瓜的状态是烤熟了,添加的调料是['黑胡椒']\n"
     ]
    }
   ],
   "source": [
    "class 地瓜:\n",
    "    def __init__(self):\n",
    "        self.被烤的时间 = 0\n",
    "        self.地瓜的状态 = \"⽣的\"\n",
    "        self.添加的调料 = []\n",
    "    def __str__(self):\n",
    "        return f\"地瓜的状态是{self.地瓜的状态},添加的调料是{self.添加的调料}\"\n",
    "    def 被烤(self):\n",
    "        self.被烤的时间 = int(input(\"请输入烤地瓜的时间：\"))\n",
    "        if 0 <= self.被烤的时间 <= 5:\n",
    "            self.地瓜的状态 = \"⽣的\"\n",
    "        elif 5 < self.被烤的时间 <= 10:\n",
    "            self.地瓜的状态 = \"半⽣不熟\"\n",
    "        elif 10 < self.被烤的时间 <= 12:\n",
    "            self.地瓜的状态 = \"烤熟了\"\n",
    "        elif self.被烤的时间 > 12:\n",
    "            self.地瓜的状态 = \"烤糊了\"\n",
    "    def 添加调料(self):\n",
    "        self.添加的调料.append(input(\"请输入添加的调料：\"))\n",
    "if __name__ == '__main__':\n",
    "    地瓜1 = 地瓜()\n",
    "    地瓜1.被烤()\n",
    "    地瓜1.添加调料()\n",
    "    print(地瓜1)\n"
   ]
  }
 ],
 "metadata": {
  "kernelspec": {
   "display_name": "Python 3 (ipykernel)",
   "language": "python",
   "name": "python3"
  },
  "language_info": {
   "codemirror_mode": {
    "name": "ipython",
    "version": 3
   },
   "file_extension": ".py",
   "mimetype": "text/x-python",
   "name": "python",
   "nbconvert_exporter": "python",
   "pygments_lexer": "ipython3",
   "version": "3.11.2"
  }
 },
 "nbformat": 4,
 "nbformat_minor": 5
}
