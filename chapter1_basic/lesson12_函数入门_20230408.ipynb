{
 "cells": [
  {
   "cell_type": "markdown",
   "id": "20376044",
   "metadata": {},
   "source": [
    "# 函数\n",
    "\n",
    "- **函数的作⽤**\n",
    "- **函数的使⽤步骤**\n",
    "- **函数的参数作⽤**\n",
    "- **函数的返回值作⽤**\n",
    "- **函数的说明⽂档**\n",
    "- **函数嵌套**\n",
    "\n",
    "> **函数是组织好的，可重复使用的，用来实现单一，或相关联功能的代码段。**\n",
    "\n",
    "**函数能提高应用的模块性，和代码的重复利用率。你已经知道Python提供了许多内建函数，比如print()。但你也可以自己创建函数，这被叫做用户自定义函数。**\n",
    "\n",
    "\n",
    "\n",
    "## 函数的使⽤步骤\n",
    "\n",
    "### 定义一个函数\n",
    "\n",
    "- 函数代码块以 **def** 关键词开头，后接函数标识符名称和圆括号()。\n",
    "- 任何传入参数和自变量必须放在圆括号中间。圆括号之间可以用于定义参数。\n",
    "- 函数的第一行语句可以选择性地使用文档字符串—用于存放函数说明。\n",
    "- 函数内容以冒号起始，并且缩进。\n",
    "- **return [表达式]** 结束函数，选择性地返回一个值给调用方。不带表达式的return相当于返回 None\n",
    "\n",
    "~~~python\n",
    "def 函数名(参数):\n",
    "    \"函数文档字符串\"\n",
    "    代码1\n",
    "    代码2\n",
    "    ......\n",
    "~~~\n",
    "\n",
    "\n",
    "\n",
    "### 函数的调用 \n",
    "\n",
    "> **定义一个函数只给了函数一个名称，指定了函数里包含的参数，和代码块结构。**\n",
    ">\n",
    "> **函数必须调用才会进行执行**\n",
    "\n",
    "~~~python\n",
    "# 函数名(参数)\n",
    "~~~\n",
    "\n",
    "> **不同的需求，参数可有可⽆。**\n",
    ">\n",
    "> **在Python中，函数必须先定义后使⽤。**"
   ]
  },
  {
   "cell_type": "code",
   "execution_count": 1,
   "id": "27379f73",
   "metadata": {},
   "outputs": [
    {
     "name": "stdout",
     "output_type": "stream",
     "text": [
      "我是dmeo函数\n"
     ]
    }
   ],
   "source": [
    "# 定义函数\n",
    "def demo():\n",
    "   print(\"我是dmeo函数\")\n",
    " \n",
    "# 调用函数\n",
    "demo()"
   ]
  },
  {
   "cell_type": "markdown",
   "id": "5ff4147a",
   "metadata": {},
   "source": [
    "## 函数的参数作⽤\n",
    "\n",
    "- **必备参数**\n",
    "- **关键字参数**\n",
    "- **默认参数**\n",
    "- **不定长参数**\n",
    "\n",
    "### 必备参数\n",
    "\n",
    "> **必备参数须以正确的顺序传入函数。调用时的数量必须和声明时的一样。调用demo()函数，你必须传入一个参数，不然会出现语法错误：**\n",
    "\n",
    "**完成需求如下：⼀个函数完成两个数1和2的加法运算，如何书写程序？**"
   ]
  },
  {
   "cell_type": "code",
   "execution_count": 2,
   "id": "40770c11",
   "metadata": {},
   "outputs": [
    {
     "name": "stdout",
     "output_type": "stream",
     "text": [
      "3\n"
     ]
    }
   ],
   "source": [
    "# 定义函数\n",
    "def demo():\n",
    " result = 1 + 2\n",
    " print(result)\n",
    "# 调⽤函数\n",
    "demo()"
   ]
  },
  {
   "cell_type": "markdown",
   "id": "fcec5b38",
   "metadata": {},
   "source": [
    "**上述demo函数只能完成数字1和2的加法运算，如果想要这个函数变得更灵活，可以计算任何⽤户指定的两个数字的和，如何书写程序？**"
   ]
  },
  {
   "cell_type": "code",
   "execution_count": 3,
   "id": "59d8bfdb",
   "metadata": {},
   "outputs": [
    {
     "name": "stdout",
     "output_type": "stream",
     "text": [
      "30\n"
     ]
    }
   ],
   "source": [
    "# 定义函数时同时定义了接收⽤户数据的参数a和b\n",
    "def demo2(a, b):\n",
    "    result = a + b\n",
    "    print(result)\n",
    "# 调⽤函数时传⼊了真实的数据10 和 20\n",
    "demo2(10, 20)"
   ]
  },
  {
   "cell_type": "markdown",
   "id": "2c22d914",
   "metadata": {},
   "source": [
    "### 关键字参数\n",
    "\n",
    "> **关键字参数和函数调用关系紧密，函数调用使用关键字参数来确定传入的参数值。**"
   ]
  },
  {
   "cell_type": "code",
   "execution_count": 4,
   "id": "6a8ef54f",
   "metadata": {},
   "outputs": [
    {
     "name": "stdout",
     "output_type": "stream",
     "text": [
      "我是张三,今年18岁\n"
     ]
    }
   ],
   "source": [
    "def demo3(name,age):\n",
    "    print(f\"我是{name},今年{age}岁\")\n",
    "    \n",
    "name = \"张三\"\n",
    "age = 18\n",
    "# 函数在调用的时候将定义好的name和age传递进去\n",
    "demo3(name,age)"
   ]
  },
  {
   "cell_type": "markdown",
   "id": "81b26ce0",
   "metadata": {},
   "source": [
    "### 默认参数\n",
    "\n",
    "> **调用函数时，默认参数的值如果没有传入，则被认为是默认值。下例会打印默认的age，如果age没有被传入**"
   ]
  },
  {
   "cell_type": "code",
   "execution_count": 5,
   "id": "9cf4d130",
   "metadata": {},
   "outputs": [
    {
     "name": "stdout",
     "output_type": "stream",
     "text": [
      "大家好，我是张三,今年18岁了\n",
      "大家好，我是李四,今年19岁了\n"
     ]
    }
   ],
   "source": [
    "def demo1(name=\"张三\",age=18):\n",
    "    print(f\"大家好，我是{name},今年{age}岁了\")\n",
    "    \n",
    "demo1()\n",
    "# 大家好，我是张三,今年18岁了\n",
    "demo1(name=\"李四\",age=19)\n",
    "# 大家好，我是李四,今年19岁了"
   ]
  },
  {
   "cell_type": "code",
   "execution_count": 6,
   "id": "f8d18c7d",
   "metadata": {},
   "outputs": [
    {
     "name": "stdout",
     "output_type": "stream",
     "text": [
      "大家好，我是李四,今年19岁了\n"
     ]
    }
   ],
   "source": [
    "def demo1(name=\"张三\",age=18):\n",
    "    print(f\"大家好，我是{name},今年{age}岁了\")\n",
    "    \n",
    "demo1(\"李四\",19)"
   ]
  },
  {
   "cell_type": "code",
   "execution_count": 7,
   "id": "28bbc0e3",
   "metadata": {},
   "outputs": [
    {
     "name": "stdout",
     "output_type": "stream",
     "text": [
      "大家好，我是李四,今年18岁了\n"
     ]
    }
   ],
   "source": [
    "def demo1(name=\"张三\",age=18):\n",
    "    print(f\"大家好，我是{name},今年{age}岁了\")\n",
    "    \n",
    "demo1(\"李四\")"
   ]
  },
  {
   "cell_type": "markdown",
   "id": "f947db7d",
   "metadata": {},
   "source": [
    "### 不定长参数\n",
    "\n",
    "> python自定义函数中有两种不定长参数，第一种是*XXX，在传入额外的参数时可以不用指明参数名，直接传入参数值即可。第二种是**XXX，这种类型返回的是字典，传入时需要指定参数名。"
   ]
  },
  {
   "cell_type": "code",
   "execution_count": 8,
   "id": "7a40ae73",
   "metadata": {},
   "outputs": [
    {
     "name": "stdout",
     "output_type": "stream",
     "text": [
      "(1, 2, 3, 4, 4, 5)\n"
     ]
    }
   ],
   "source": [
    "def demo2(*args):\n",
    "    print(args)\n",
    "\n",
    "demo2(1,2,3,4,4,5)"
   ]
  },
  {
   "cell_type": "markdown",
   "id": "caac92c1",
   "metadata": {},
   "source": [
    "**加了一个星号** 不定长参数会以元组(tuple)的形式导入，存放所有未命名的变量参数。加了两个星号 ** 的参数会以字典的形式导入，存放已命名的变量参数。"
   ]
  },
  {
   "cell_type": "code",
   "execution_count": 9,
   "id": "af2d720c",
   "metadata": {},
   "outputs": [
    {
     "name": "stdout",
     "output_type": "stream",
     "text": [
      "11\n",
      "(22, 33)\n",
      "{'a': 18, 'b': 19, 'c': 20}\n"
     ]
    }
   ],
   "source": [
    "def demo2(num, *args, **kwargs):\n",
    "    print(num)\n",
    "    print(args)\n",
    "    print(kwargs)\n",
    "\n",
    "demo2(11, 22, 33, a=18, b=19, c=20)"
   ]
  },
  {
   "cell_type": "markdown",
   "id": "18fc61b3",
   "metadata": {},
   "source": [
    "## 函数的返回值作⽤\n",
    "\n",
    "> **return语句[表达式]退出函数**"
   ]
  },
  {
   "cell_type": "code",
   "execution_count": 10,
   "id": "ae6e7aff",
   "metadata": {},
   "outputs": [
    {
     "name": "stdout",
     "output_type": "stream",
     "text": [
      "1\n"
     ]
    }
   ],
   "source": [
    "def demo1():\n",
    "    for i in range(1,10):\n",
    "        return i\n",
    "\n",
    "print(demo1())"
   ]
  },
  {
   "cell_type": "markdown",
   "id": "3a260285",
   "metadata": {},
   "source": [
    "## 变量作用域\n",
    "\n",
    "> 一个程序的所有的变量并不是在哪个位置都可以访问的。访问权限决定于这个变量是在哪里赋值的。\n",
    ">\n",
    "> 变量的作用域决定了在哪一部分程序你可以访问哪个特定的变量名称。\n",
    "\n",
    "- **全局变量**\n",
    "- **局部变量**"
   ]
  },
  {
   "cell_type": "code",
   "execution_count": 11,
   "id": "abe1549e",
   "metadata": {},
   "outputs": [
    {
     "name": "stdout",
     "output_type": "stream",
     "text": [
      "30\n"
     ]
    }
   ],
   "source": [
    "# 全局变量\n",
    "num = 10\n",
    "def demo():\n",
    "    result = num+20\n",
    "    print(result)\n",
    "\n",
    "demo()"
   ]
  },
  {
   "cell_type": "code",
   "execution_count": 12,
   "id": "602ed5c9",
   "metadata": {},
   "outputs": [
    {
     "name": "stdout",
     "output_type": "stream",
     "text": [
      "30\n"
     ]
    }
   ],
   "source": [
    "def demo2():\n",
    "    global num    # 声明num为全局变量\n",
    "    num = 10      # 局部变量\n",
    "\n",
    "demo2()\n",
    "result = num+20\n",
    "print(result)"
   ]
  },
  {
   "cell_type": "code",
   "execution_count": 13,
   "id": "e2db182d",
   "metadata": {},
   "outputs": [
    {
     "name": "stdout",
     "output_type": "stream",
     "text": [
      "110\n"
     ]
    }
   ],
   "source": [
    "num = 10\n",
    "def func():\n",
    "    global num\n",
    "    num += 100\n",
    "    return num\n",
    "# 调用func中的num\n",
    "print(func())"
   ]
  },
  {
   "cell_type": "markdown",
   "id": "927fa3bd",
   "metadata": {},
   "source": [
    "列表、集合、字典等可变类型，可以不用global，字符串和数值类型等不可变的，需要声明global全局变量"
   ]
  },
  {
   "cell_type": "markdown",
   "id": "a38771f0",
   "metadata": {},
   "source": [
    "# 作业\n",
    "\n",
    "定义两个函数\n",
    "调用第一个函数可以录入学员\n",
    "输入学员姓名，并将学员姓名添加到列表\n",
    "调用第二个函数可以查询学员\n",
    "输入学员姓名，可查询学员是否录入"
   ]
  },
  {
   "cell_type": "code",
   "execution_count": 16,
   "id": "b8b9590f",
   "metadata": {},
   "outputs": [
    {
     "name": "stdout",
     "output_type": "stream",
     "text": [
      "请输入需要添加的学员姓名(按q退出)：张三\n",
      "请输入需要添加的学员姓名(按q退出)：李四\n",
      "请输入需要添加的学员姓名(按q退出)：q\n",
      "请输入需要查询的学员姓名(按q退出)：王五\n",
      "学员不存在\n",
      "请输入需要查询的学员姓名(按q退出)：张三\n",
      "学员已存在\n",
      "请输入需要查询的学员姓名(按q退出)：q\n"
     ]
    }
   ],
   "source": [
    "# 定义一个列表，用来存储学员姓名\n",
    "student_list = []\n",
    "\n",
    "\n",
    "# 定义一个函数，用来录入学员姓名\n",
    "def add_student():\n",
    "    while True:\n",
    "        name = input(\"请输入需要添加的学员姓名(按q退出)：\")\n",
    "        if name == \"q\":\n",
    "            break\n",
    "        student_list.append(name)\n",
    "\n",
    "\n",
    "# 定义一个函数，用来查询学员姓名\n",
    "def search_student():\n",
    "    while True:\n",
    "        name = input(\"请输入需要查询的学员姓名(按q退出)：\")\n",
    "        if name == \"q\":\n",
    "            break\n",
    "        if name in student_list:\n",
    "            print(\"学员已存在\")\n",
    "        else:\n",
    "            print(\"学员不存在\")\n",
    "\n",
    "# 调用函数\n",
    "add_student()\n",
    "search_student()"
   ]
  }
 ],
 "metadata": {
  "kernelspec": {
   "display_name": "Python 3 (ipykernel)",
   "language": "python",
   "name": "python3"
  },
  "language_info": {
   "codemirror_mode": {
    "name": "ipython",
    "version": 3
   },
   "file_extension": ".py",
   "mimetype": "text/x-python",
   "name": "python",
   "nbconvert_exporter": "python",
   "pygments_lexer": "ipython3",
   "version": "3.11.2"
  }
 },
 "nbformat": 4,
 "nbformat_minor": 5
}
