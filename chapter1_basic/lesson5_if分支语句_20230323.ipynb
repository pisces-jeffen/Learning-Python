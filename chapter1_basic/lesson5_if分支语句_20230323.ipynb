{
 "cells": [
  {
   "cell_type": "markdown",
   "id": "c5322cfb",
   "metadata": {},
   "source": [
    "## if语法\n",
    "\n",
    "> **如果.... 就....**\n",
    "\n",
    "![](https://gitee.com/pirately/image/raw/master/if%E6%9D%A1%E4%BB%B6.png)"
   ]
  },
  {
   "cell_type": "code",
   "execution_count": 1,
   "id": "f7b2c8d1",
   "metadata": {},
   "outputs": [
    {
     "name": "stdout",
     "output_type": "stream",
     "text": [
      "条件成⽴执⾏的代码1\n",
      "条件成⽴执⾏的代码2\n",
      "我是⽆论条件是否成⽴都要执⾏的代码\n"
     ]
    }
   ],
   "source": [
    "if True:\n",
    "    print('条件成⽴执⾏的代码1')\n",
    "    print('条件成⽴执⾏的代码2')\n",
    "# 下⽅的代码没有缩进到if语句块，所以和if条件⽆关\n",
    "print('我是⽆论条件是否成⽴都要执⾏的代码')"
   ]
  },
  {
   "cell_type": "code",
   "execution_count": 2,
   "id": "9a2193fd",
   "metadata": {},
   "outputs": [
    {
     "name": "stdout",
     "output_type": "stream",
     "text": [
      "已经成年，可以上⽹\n"
     ]
    }
   ],
   "source": [
    "age = 20\n",
    "if age >= 18:\n",
    "    print('已经成年，可以上⽹')"
   ]
  },
  {
   "cell_type": "markdown",
   "id": "8b5ece93",
   "metadata": {},
   "source": [
    "## if...else...\n",
    "\n",
    "> 条件成⽴执⾏if下⽅的代码; 条件不成⽴执⾏else下⽅的代码。\n",
    "\n",
    "## if...elif ...else...\n",
    "\n",
    "当判断条件为多个值时，可以使用以下形式："
   ]
  },
  {
   "cell_type": "code",
   "execution_count": 3,
   "id": "050cde48",
   "metadata": {},
   "outputs": [
    {
     "name": "stdout",
     "output_type": "stream",
     "text": [
      "请输入一个数，打开对应的游戏:2\n",
      "打开消消乐\n"
     ]
    }
   ],
   "source": [
    "# 输入1，玩连连看\n",
    "# 输入2，玩消消乐\n",
    "# 输入3，玩贪吃蛇\n",
    "# 输入4，玩推箱子\n",
    "# 多重判断，if和elif都不满足的情况下，else才会执行\n",
    "num = int(input(\"请输入一个数，打开对应的游戏:\"))\n",
    "if num == 1:\n",
    "    print(\"打开连连看\")\n",
    "elif num == 2:\n",
    "    print(\"打开消消乐\")\n",
    "elif num == 3:\n",
    "    print(\"打开贪吃蛇\")\n",
    "elif num == 4:\n",
    "    print(\"打开推箱子\")\n",
    "else:\n",
    "    print(\"请输入正确的数字\")"
   ]
  },
  {
   "cell_type": "markdown",
   "id": "ff8fd472",
   "metadata": {},
   "source": [
    "## 多重判断\n",
    "\n",
    "> 思考：中国合法⼯作年龄为18-60岁，即如果年龄⼩于18的情况为童⼯，不合法；如果年龄在18-、60岁之间为合法⼯龄；⼤于60岁为法定退休年龄。\n",
    "\n",
    "> 多重判断也可以和else配合使⽤。⼀般else放到整个if语句的最后，表示以上条件都不成⽴的时候执⾏的代码。\n",
    "\n",
    "如果判断需要多个条件需同时判断时，可以使用 or （或），表示两个条件有一个成立时判断条件成功；使用 and （与）时，表示只有两个条件同时成立的情况下，判断条件才成功。"
   ]
  },
  {
   "cell_type": "code",
   "execution_count": 4,
   "id": "bff9c3e4",
   "metadata": {},
   "outputs": [
    {
     "name": "stdout",
     "output_type": "stream",
     "text": [
      "请输⼊您的年龄：40\n",
      "合法⼯龄\n"
     ]
    }
   ],
   "source": [
    "age = int(input('请输⼊您的年龄：'))\n",
    "if age < 18:\n",
    "    print('童⼯⼀枚')\n",
    "elif age >= 18 and age <= 60:\n",
    "# age >= 18 and age <= 60 可以化简为 18 <= age <= 60\n",
    "    print('合法⼯龄')\n",
    "elif age > 60:\n",
    "    print('可以退休')"
   ]
  },
  {
   "cell_type": "markdown",
   "id": "1ed81f8f",
   "metadata": {},
   "source": [
    "## if嵌套\n",
    "\n",
    "> 坐公交车，需要花钱，上了车，有座位就坐下，没座位就站着"
   ]
  },
  {
   "cell_type": "code",
   "execution_count": 5,
   "id": "b992902a",
   "metadata": {},
   "outputs": [
    {
     "name": "stdout",
     "output_type": "stream",
     "text": [
      "上车请投币：1\n",
      "祝你旅途愉快\n",
      "是否有空座：yes\n",
      "有空座，可以坐下\n"
     ]
    }
   ],
   "source": [
    "# 假设⽤ money = 1 表示有钱, money = 0表示没有钱; seat = 1 表示有空座，seat = 0 表示没有空座\n",
    "money = int(input(\"上车请投币：\"))\n",
    "if money == 1:\n",
    "    print('祝你旅途愉快')\n",
    "    seat = input(\"是否有空座：\")\n",
    "    if seat == \"yes\":\n",
    "        print('有空座，可以坐下')\n",
    "    else:\n",
    "        print('没有空座，站等')\n",
    "else:\n",
    "    print('没钱请下车')"
   ]
  },
  {
   "cell_type": "markdown",
   "id": "5f700b12",
   "metadata": {},
   "source": [
    "# 作业\n",
    "\n",
    "写一个if嵌套\n",
    "\n",
    "最少嵌套三次\n",
    "\n",
    "例：买车\n",
    "\n",
    "1、有没有车\n",
    "\n",
    "2、有没有某个型号\n",
    "\n",
    "3、有没有某个颜色\n",
    "\n",
    "4、有没有礼品\n",
    "\n",
    "5、有没有现车\n",
    "\n",
    "6、有没有免费保养\n",
    "\n",
    "。。。"
   ]
  },
  {
   "cell_type": "code",
   "execution_count": null,
   "id": "a1727146",
   "metadata": {},
   "outputs": [],
   "source": [
    "cmd1 = input(\"是否有车？(有/没有)：\")\n",
    "if cmd1 == '有':\n",
    "    cmd2 = input(\"是否有不知道什么型号的型号？(有/没有)：\")\n",
    "    if cmd2 == \"有\":\n",
    "        cmd3 = input(\"是否有不知道什么颜色的颜色？(有/没有)：\")\n",
    "        if cmd3 == \"有\":\n",
    "            cmd4 = input(\"是否有现车？(有/没有)：\")\n",
    "            if cmd4 == \"有\":\n",
    "                cmd5 = input(\"是否有礼品？(有/没有)：\")\n",
    "                if cmd5 == \"有\":\n",
    "                    print(\"恭喜您！您可以购买这辆车并享受免费保养。\")\n",
    "                else:\n",
    "                    print(\"很抱歉，我们没有礼品。\")\n",
    "            else:\n",
    "                print(\"很抱歉，我们没有现车。\")\n",
    "        else:\n",
    "            print(\"很抱歉，我们没有这个颜色的车。\")\n",
    "    else:\n",
    "        print(\"很抱歉，我们没有这个型号的车。\")\n",
    "else:\n",
    "    print(\"很抱歉，我们没有车。\")"
   ]
  }
 ],
 "metadata": {
  "kernelspec": {
   "display_name": "Python 3 (ipykernel)",
   "language": "python",
   "name": "python3"
  },
  "language_info": {
   "codemirror_mode": {
    "name": "ipython",
    "version": 3
   },
   "file_extension": ".py",
   "mimetype": "text/x-python",
   "name": "python",
   "nbconvert_exporter": "python",
   "pygments_lexer": "ipython3",
   "version": "3.11.2"
  }
 },
 "nbformat": 4,
 "nbformat_minor": 5
}
