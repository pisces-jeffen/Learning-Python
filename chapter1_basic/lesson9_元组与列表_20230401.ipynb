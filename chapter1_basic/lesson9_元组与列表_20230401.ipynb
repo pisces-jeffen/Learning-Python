{
 "cells": [
  {
   "cell_type": "markdown",
   "id": "5a7b2766",
   "metadata": {},
   "source": [
    " # 元组与列表\n",
    "\n",
    "- **列表的应⽤场景**\n",
    "- **列表的格式**\n",
    "- **列表的常⽤操作**\n",
    "- **列表的循环遍历**\n",
    "- **列表的嵌套使⽤**\n",
    "\n",
    "------\n",
    "\n",
    "- **元组的应⽤场景**\n",
    "- **定义元组**\n",
    "- **元组常⻅操作**\n",
    "\n",
    "\n",
    "\n",
    "## 列表的应⽤场景\n",
    "\n",
    "> **思考：如果⼀个班级100位学⽣，每个⼈的姓名都要存储到变量，应该如何书写程序？声明100个变量吗？**\n",
    "> **答：列表即可， 列表⼀次性可以存储多个数据。**\n",
    "\n",
    "## 列表的格式\n",
    "\n",
    "> **列表可以⼀次性存储多个数据，且可以为不同数据类型**\n",
    "\n",
    "### 列表的常⽤操作\n",
    "\n",
    "> **列表的作⽤是⼀次性存储多个数据，程序员可以对这些数据进⾏的操作有：增、删、改、查。**"
   ]
  },
  {
   "cell_type": "code",
   "execution_count": 1,
   "id": "ba5c88cf",
   "metadata": {},
   "outputs": [
    {
     "name": "stdout",
     "output_type": "stream",
     "text": [
      "张三\n",
      "李四\n",
      "王五\n"
     ]
    }
   ],
   "source": [
    "li = [1,2,3,4,\"张三\",\"李四\"]\n",
    "\n",
    "name_list = ['张三', '李四', '王五','赵六']\n",
    "print(name_list[0])\n",
    "print(name_list[1])\n",
    "print(name_list[2])"
   ]
  },
  {
   "cell_type": "markdown",
   "id": "c783077a",
   "metadata": {},
   "source": [
    "#### 函数\n",
    "\n",
    "* **index()：返回指定数据所在位置的下标 。**"
   ]
  },
  {
   "cell_type": "code",
   "execution_count": 2,
   "id": "9ab1ee30",
   "metadata": {},
   "outputs": [
    {
     "name": "stdout",
     "output_type": "stream",
     "text": [
      "0\n"
     ]
    }
   ],
   "source": [
    "# 列表序列.index(数据, 开始位置下标, 结束位置下标)\n",
    "name_list = ['张三', '李四', '王五','赵六']\n",
    "print(name_list.index('张三', 0, 2))"
   ]
  },
  {
   "cell_type": "markdown",
   "id": "68475e30",
   "metadata": {},
   "source": [
    "**count()：统计指定数据在当前列表中出现的次数。**"
   ]
  },
  {
   "cell_type": "code",
   "execution_count": 3,
   "id": "60d62936",
   "metadata": {},
   "outputs": [
    {
     "name": "stdout",
     "output_type": "stream",
     "text": [
      "2\n"
     ]
    }
   ],
   "source": [
    "name_list = ['张三', '李四', '王五','张三']\n",
    "print(name_list.count('张三'))"
   ]
  },
  {
   "cell_type": "markdown",
   "id": "147b75cf",
   "metadata": {},
   "source": [
    "**len()：访问列表⻓度，即列表中数据的个数。**"
   ]
  },
  {
   "cell_type": "code",
   "execution_count": 4,
   "id": "dd1307ed",
   "metadata": {},
   "outputs": [
    {
     "name": "stdout",
     "output_type": "stream",
     "text": [
      "4\n"
     ]
    }
   ],
   "source": [
    "name_list = ['张三', '李四', '王五','赵六']\n",
    "print(len(name_list))"
   ]
  },
  {
   "cell_type": "markdown",
   "id": "a1057f21",
   "metadata": {},
   "source": [
    "#### in与not in\n",
    "\n",
    "> **in：判断指定数据在某个列表序列，如果在返回True，否则返回False**\n",
    ">\n",
    "> **not in：判断指定数据不在某个列表序列，如果不在返回True，否则返回False**"
   ]
  },
  {
   "cell_type": "code",
   "execution_count": 5,
   "id": "dbf80c31",
   "metadata": {},
   "outputs": [
    {
     "name": "stdout",
     "output_type": "stream",
     "text": [
      "请输⼊您要搜索的名字：李四\n",
      "您输⼊的名字是李四, 名字已经存在\n"
     ]
    }
   ],
   "source": [
    "name_list = ['张三', '李四', '王五','赵六']\n",
    "name = input('请输⼊您要搜索的名字：')\n",
    "if name in name_list:\n",
    "    print(f'您输⼊的名字是{name}, 名字已经存在')\n",
    "else:\n",
    "    print(f'您输⼊的名字是{name}, 名字不存在')"
   ]
  },
  {
   "cell_type": "markdown",
   "id": "6873cec3",
   "metadata": {},
   "source": [
    "### 增加\n",
    "\n",
    "> **作⽤：增加指定数据到列表中。**\n",
    "\n",
    "#### 函数\n",
    "\n",
    "* **append()：**\n",
    "\n",
    "列表结尾追加数据。"
   ]
  },
  {
   "cell_type": "code",
   "execution_count": 6,
   "id": "619f919c",
   "metadata": {},
   "outputs": [
    {
     "name": "stdout",
     "output_type": "stream",
     "text": [
      "['张三', '李四', '王五', '赵六', '阿坤']\n"
     ]
    }
   ],
   "source": [
    "# 列表序列.append(数据)\n",
    "name_list = ['张三', '李四', '王五','赵六']\n",
    "name_list.append('阿坤')\n",
    "print(name_list)"
   ]
  },
  {
   "cell_type": "code",
   "execution_count": 7,
   "id": "704be33b",
   "metadata": {},
   "outputs": [
    {
     "name": "stdout",
     "output_type": "stream",
     "text": [
      "['张三', '李四', '王五', '赵六', ['唱', '跳', 'rap', '篮球']]\n"
     ]
    }
   ],
   "source": [
    "# 如果append()追加的数据是⼀个序列，则追加整个序列到列表\n",
    "name_list = ['张三', '李四', '王五','赵六']\n",
    "alist = [\"唱\",\"跳\",\"rap\",\"篮球\"]\n",
    "name_list.append(alist)\n",
    "print(name_list)\n",
    "# ['张三', '李四', '王五', '赵六', ['唱', '跳', 'rap', '篮球']]"
   ]
  },
  {
   "cell_type": "code",
   "execution_count": 8,
   "id": "0ac8ea9f",
   "metadata": {},
   "outputs": [
    {
     "name": "stdout",
     "output_type": "stream",
     "text": [
      "2043399464448\n",
      "2043399464448\n"
     ]
    }
   ],
   "source": [
    "list1 = [\"张三\",\"李四\",\"王五\"]\n",
    "print(id(list1))\n",
    "list1.append(\"赵六\")\n",
    "print(id(list1))\n",
    "# 列表是可变的\n",
    "# 修改之后，内存地址如果不变，那他就是"
   ]
  },
  {
   "cell_type": "markdown",
   "id": "ed632c64",
   "metadata": {},
   "source": [
    "* **extend():**\n",
    "\n",
    "> **列表结尾追加数据，如果数据是⼀个序列，则将这个序列的数据逐⼀添加到列表。**"
   ]
  },
  {
   "cell_type": "code",
   "execution_count": 9,
   "id": "79bebe6a",
   "metadata": {},
   "outputs": [
    {
     "name": "stdout",
     "output_type": "stream",
     "text": [
      "['张三', '李四', '王五', '赵六', '阿', '坤']\n"
     ]
    }
   ],
   "source": [
    "name_list = ['张三', '李四', '王五','赵六']\n",
    "name_list.extend('阿坤')\n",
    "print(name_list)\n",
    "# ['张三', '李四', '王五', '赵六', '阿', '坤']"
   ]
  },
  {
   "cell_type": "markdown",
   "id": "ae0681ae",
   "metadata": {},
   "source": [
    "**如果添加一个序列，则会将序列里面每一个元素添加进去**"
   ]
  },
  {
   "cell_type": "code",
   "execution_count": 10,
   "id": "a380210a",
   "metadata": {},
   "outputs": [
    {
     "name": "stdout",
     "output_type": "stream",
     "text": [
      "['张三', '李四', '王五', '赵六', '唱', '跳', 'rap', '篮球']\n"
     ]
    }
   ],
   "source": [
    "name_list = ['张三', '李四', '王五','赵六']\n",
    "alist = [\"唱\",\"跳\",\"rap\",\"篮球\"]\n",
    "name_list.extend(alist)\n",
    "print(name_list)"
   ]
  },
  {
   "cell_type": "markdown",
   "id": "733abb2f",
   "metadata": {},
   "source": [
    "* **insert()：**\n",
    "\n",
    "**指定位置新增数据。**"
   ]
  },
  {
   "cell_type": "code",
   "execution_count": 11,
   "id": "146fd963",
   "metadata": {},
   "outputs": [
    {
     "name": "stdout",
     "output_type": "stream",
     "text": [
      "['张三', '阿坤', '李四', '王五', '赵六']\n"
     ]
    }
   ],
   "source": [
    "# 列表序列.insert(位置下标, 数据)\n",
    "name_list = ['张三', '李四', '王五','赵六']\n",
    "name_list.insert(1, '阿坤')\n",
    "# 结果：['张三','阿坤', '李四', '王五','赵六']\n",
    "print(name_list)"
   ]
  },
  {
   "cell_type": "markdown",
   "id": "c014bf80",
   "metadata": {},
   "source": [
    "### 删除\n",
    "\n",
    "**删除列表当中的数据**\n",
    "\n",
    "* del\n",
    "\n",
    "**删除整个列表**"
   ]
  },
  {
   "cell_type": "code",
   "execution_count": 12,
   "id": "d9f52763",
   "metadata": {},
   "outputs": [
    {
     "ename": "NameError",
     "evalue": "name 'name_list' is not defined",
     "output_type": "error",
     "traceback": [
      "\u001b[1;31m---------------------------------------------------------------------------\u001b[0m",
      "\u001b[1;31mNameError\u001b[0m                                 Traceback (most recent call last)",
      "Cell \u001b[1;32mIn[12], line 3\u001b[0m\n\u001b[0;32m      1\u001b[0m name_list \u001b[38;5;241m=\u001b[39m [\u001b[38;5;124m'\u001b[39m\u001b[38;5;124m张三\u001b[39m\u001b[38;5;124m'\u001b[39m, \u001b[38;5;124m'\u001b[39m\u001b[38;5;124m李四\u001b[39m\u001b[38;5;124m'\u001b[39m, \u001b[38;5;124m'\u001b[39m\u001b[38;5;124m王五\u001b[39m\u001b[38;5;124m'\u001b[39m,\u001b[38;5;124m'\u001b[39m\u001b[38;5;124m赵六\u001b[39m\u001b[38;5;124m'\u001b[39m]\n\u001b[0;32m      2\u001b[0m \u001b[38;5;28;01mdel\u001b[39;00m name_list\n\u001b[1;32m----> 3\u001b[0m \u001b[38;5;28mprint\u001b[39m(\u001b[43mname_list\u001b[49m)\n",
      "\u001b[1;31mNameError\u001b[0m: name 'name_list' is not defined"
     ]
    }
   ],
   "source": [
    "name_list = ['张三', '李四', '王五','赵六']\n",
    "del name_list\n",
    "print(name_list)"
   ]
  },
  {
   "cell_type": "markdown",
   "id": "614f1fb5",
   "metadata": {},
   "source": [
    "**删除指定数据**（根据索引删除）"
   ]
  },
  {
   "cell_type": "code",
   "execution_count": 14,
   "id": "f0a192bd",
   "metadata": {},
   "outputs": [
    {
     "name": "stdout",
     "output_type": "stream",
     "text": [
      "['张三', '王五', '赵六']\n"
     ]
    }
   ],
   "source": [
    "name_list = ['张三', '李四', '王五','赵六']\n",
    "del name_list[1]\n",
    "print(name_list)\n",
    "# ['张三', '王五', '赵六']"
   ]
  },
  {
   "cell_type": "markdown",
   "id": "a52981a4",
   "metadata": {},
   "source": [
    "* **pop()：**\n",
    "\n",
    "**删除指定下标的数据(默认为最后⼀个)，并返回该数据。**"
   ]
  },
  {
   "cell_type": "code",
   "execution_count": 15,
   "id": "7de37a77",
   "metadata": {},
   "outputs": [
    {
     "name": "stdout",
     "output_type": "stream",
     "text": [
      "['张三', '王五', '赵六']\n"
     ]
    }
   ],
   "source": [
    "name_list = ['张三', '李四', '王五','赵六']\n",
    "name_list.pop(1)\n",
    "print(name_list)\n",
    "# ['张三', '王五', '赵六']"
   ]
  },
  {
   "cell_type": "markdown",
   "id": "4d1150ac",
   "metadata": {},
   "source": [
    "* **remove()：**\n",
    "\n",
    "**移除列表中某个数据的第⼀个匹配项。**"
   ]
  },
  {
   "cell_type": "code",
   "execution_count": 16,
   "id": "ea0c78af",
   "metadata": {},
   "outputs": [
    {
     "name": "stdout",
     "output_type": "stream",
     "text": [
      "['李四', '王五', '赵六']\n"
     ]
    }
   ],
   "source": [
    "# 列表序列.remove(数据)\n",
    "name_list = ['张三', '李四', '王五','赵六']\n",
    "name_list.remove(\"张三\")\n",
    "print(name_list)\n",
    "# ['李四', '王五', '赵六']"
   ]
  },
  {
   "cell_type": "markdown",
   "id": "fb8f3141",
   "metadata": {},
   "source": [
    "* **clear()：**\n",
    "\n",
    "**清空列表**"
   ]
  },
  {
   "cell_type": "code",
   "execution_count": 17,
   "id": "408f71e7",
   "metadata": {},
   "outputs": [
    {
     "name": "stdout",
     "output_type": "stream",
     "text": [
      "[]\n"
     ]
    }
   ],
   "source": [
    "name_list = ['张三', '李四', '王五','赵六']\n",
    "name_list.clear()\n",
    "print(name_list)\n",
    "# []"
   ]
  },
  {
   "cell_type": "markdown",
   "id": "e9a9b6bf",
   "metadata": {},
   "source": [
    "# 作业\n",
    "\n",
    "有一个列表li1 = [\"张三\", \"王五\",\"坤哥\"，\"李四\", \"赵六\", \"坤哥\",\"王五\",\"坤哥\",\"张三\",坤哥\"]，将列表重复的数据删除，保留一个，不可以使用集合"
   ]
  },
  {
   "cell_type": "code",
   "execution_count": 18,
   "id": "8521a282",
   "metadata": {},
   "outputs": [
    {
     "name": "stdout",
     "output_type": "stream",
     "text": [
      "['张三', '王五', '坤哥', '李四', '赵六']\n"
     ]
    }
   ],
   "source": [
    "# 有一个列表li1 = [\"张三\", \"王五\",\"坤哥\"，\"李四\", \"赵六\", \"坤哥\",\"王五\",\"坤哥\",\"张三\",坤哥\"]，\n",
    "# 将列表重复的数据删除，保留一个，不可以使用集合\n",
    "li1 = [\"张三\", \"王五\",\"坤哥\",\"李四\", \"赵六\", \"坤哥\",\"王五\",\"坤哥\",\"张三\",\"坤哥\"]\n",
    "# 1.遍历列表，将列表中的每个元素都放到一个新的列表中\n",
    "# 2.如果新列表中没有这个元素，就添加到新列表中\n",
    "# 3.如果新列表中有这个元素，就不添加\n",
    "li2 = []\n",
    "for i in li1:\n",
    "    if i not in li2:\n",
    "        li2.append(i)\n",
    "print(li2)"
   ]
  }
 ],
 "metadata": {
  "kernelspec": {
   "display_name": "Python 3 (ipykernel)",
   "language": "python",
   "name": "python3"
  },
  "language_info": {
   "codemirror_mode": {
    "name": "ipython",
    "version": 3
   },
   "file_extension": ".py",
   "mimetype": "text/x-python",
   "name": "python",
   "nbconvert_exporter": "python",
   "pygments_lexer": "ipython3",
   "version": "3.11.2"
  }
 },
 "nbformat": 4,
 "nbformat_minor": 5
}
