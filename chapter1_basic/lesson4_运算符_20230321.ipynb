{
 "cells": [
  {
   "cell_type": "markdown",
   "id": "1c1ce483",
   "metadata": {},
   "source": [
    "# 运算符\n",
    "\n",
    "- 算数运算符\n",
    "- 赋值运算符\n",
    "- 复合赋值运算符\n",
    "- ⽐较运算符\n",
    "- 逻辑运算符\n",
    "\n",
    "## 算数运算符\n",
    "\n",
    "| 符号 | 描述   | 实例                       |\n",
    "| ---- | ------ | -------------------------- |\n",
    "| \\+   | 加     | print(1+1) 输出结果为2     |\n",
    "| \\-   | 减     | print(1-1) 输出结果为0     |\n",
    "| *    | 乘     | print(2*2) 输出结果为4     |\n",
    "| /    | 除     | print(4/2) 输出结果为2     |\n",
    "| //   | 整除   | print(9//4) 输出结果为2    |\n",
    "| %    | 取余   | print(9//4) 输出结果为1    |\n",
    "| **   | 乘方   | print(2**4) 输出结果为16   |\n",
    "| （） | 优先级 | print((1+1)*3) 输出结果为6 |"
   ]
  },
  {
   "cell_type": "code",
   "execution_count": 1,
   "id": "54f46bae",
   "metadata": {},
   "outputs": [
    {
     "name": "stdout",
     "output_type": "stream",
     "text": [
      "300\n",
      "2075971746992\n",
      "2075972973744\n"
     ]
    }
   ],
   "source": [
    "num1 = 100\n",
    "num2 = 200\n",
    "num3 = 300\n",
    "\n",
    "# 算术运算符\n",
    "# -5~256之间，常量池\n",
    "num1 += num2\n",
    "print(num1)  # 300\n",
    "print(id(num1))\n",
    "print(id(num3))"
   ]
  },
  {
   "cell_type": "markdown",
   "id": "f014295e",
   "metadata": {},
   "source": [
    "## 赋值运算符\n",
    "\n",
    "| 运算符 | 描述 | 实例                             |\n",
    "| ------ | ---- | -------------------------------- |\n",
    "| =      | 赋值 | 将=右侧的结果赋值给=左侧的变量名 |"
   ]
  },
  {
   "cell_type": "code",
   "execution_count": 2,
   "id": "cd949f54",
   "metadata": {},
   "outputs": [
    {
     "name": "stdout",
     "output_type": "stream",
     "text": [
      "2\n"
     ]
    }
   ],
   "source": [
    "# 单变量\n",
    "num = 1\n",
    "print(num+1)"
   ]
  },
  {
   "cell_type": "code",
   "execution_count": 3,
   "id": "669c62f8",
   "metadata": {},
   "outputs": [
    {
     "name": "stdout",
     "output_type": "stream",
     "text": [
      "10\n",
      "0.5\n",
      "hello world\n"
     ]
    }
   ],
   "source": [
    "# 多变量\n",
    "num1, float1, str1 = 10, 0.5, 'hello world'\n",
    "print(num1)\n",
    "print(float1)\n",
    "print(str1)"
   ]
  },
  {
   "cell_type": "markdown",
   "id": "5636edb7",
   "metadata": {},
   "source": [
    "## 复合赋值运算符 \n",
    "\n",
    "| 运算符 | 描述           | 实例              |\n",
    "| ------ | -------------- | ----------------- |\n",
    "| +=     | 加法赋值运算符 | a+=1等价于a=a+1   |\n",
    "| -=     | 减法赋值运算符 | a-=1等价于a=a-1   |\n",
    "| *=     | 乘法赋值运算符 | a*=1等价于a=ax1   |\n",
    "| /=     | 除法赋值运算符 | a/=1等价于a=a/1   |\n",
    "| //=    | 整除赋值运算符 | a//=1等价于a=a//1 |\n",
    "| %=     | 取余赋值运算符 | a%=1等价于a=a%1   |\n",
    "| **=    | 次方赋值运算符 | a**=1等价于a=axx1 |"
   ]
  },
  {
   "cell_type": "code",
   "execution_count": 4,
   "id": "18237d99",
   "metadata": {},
   "outputs": [
    {
     "name": "stdout",
     "output_type": "stream",
     "text": [
      "101\n",
      "6\n",
      "13\n"
     ]
    }
   ],
   "source": [
    "a = 100\n",
    "a += 1\n",
    "# 输出101 a = a + 1,最终a = 100 + 1\n",
    "print(a) # 101\n",
    "\n",
    "b = 2 \n",
    "b *= 3\n",
    "print(b)   # 输出6 b = b * 3,最终b = 2 * 3\n",
    "\n",
    "c = 10\n",
    "c += 1 + 2\n",
    "print(c)  # 输出13, 先算运算符右侧1 + 2 = 3， c += 3 , 推导出c = 10 + 3"
   ]
  },
  {
   "cell_type": "markdown",
   "id": "8afd35b9",
   "metadata": {},
   "source": [
    "## 比较运算符\n",
    "\n",
    "| 运算符 | 描述                                                         | 实例                            |\n",
    "| ------ | ------------------------------------------------------------ | ------------------------------- |\n",
    "| ==     | 判断相等。如果两个操作数的结果相等，则条件结果为真(True)，否则条件结果为假(False) | 如a=3,b=3，则（a == b) 为 True  |\n",
    "| !=     | 不等于 。如果两个操作数的结果不相等，则条件为真(True)，否则条件结果为假(False) | 如a=3,b=3，则（a != b) 为 False |\n",
    "| >      | 运算符左侧操作数结果是否⼤于右侧操作数结果，如果⼤于，则条件为真，否则为假 | 如a=7,b=3，则(a > b) 为 True    |\n",
    "| >=     | 运算符左侧操作数结果是否⼤于等于右侧操作数结果，如果⼤于等于，则条件为真，否则为假 | a=3,b=3，则(a >= b) 为 True     |\n",
    "| <      | 运算符左侧操作数结果是否小于右侧操作数结果，如果小于，则条件为真，否则为假 | 如a=7,b=3，则(a < b) 为 False   |\n",
    "| <=     | 运算符左侧操作数结果是否小于等于右侧操作数结果，如果小于等于，则条件为真，否则为假 | 如a=3,b=3，则(a <= b) 为 True   |"
   ]
  },
  {
   "cell_type": "code",
   "execution_count": 5,
   "id": "62f5bfa1",
   "metadata": {},
   "outputs": [
    {
     "name": "stdout",
     "output_type": "stream",
     "text": [
      "False\n",
      "True\n",
      "False\n",
      "True\n",
      "False\n",
      "True\n"
     ]
    }
   ],
   "source": [
    "a = 7\n",
    "b = 5\n",
    "print(a == b) # False\n",
    "print(a != b) # True\n",
    "print(a < b) # False\n",
    "print(a > b) # True\n",
    "print(a <= b) # False\n",
    "print(a >= b) # True"
   ]
  },
  {
   "cell_type": "markdown",
   "id": "0d495400",
   "metadata": {},
   "source": [
    "## 逻辑运算符\n",
    "\n",
    "| 运算符 | 逻辑表达式 | 描述                               | 实例                                     |\n",
    "| ------ | ---------- | ---------------------------------- | ---------------------------------------- |\n",
    "| and    | a and b    | 如果 a 为 False，a and b 返回False | True and False， 返回False。             |\n",
    "| or     | a or b     | 如果 a 为 True，a or b 返回True    | False or True， 返回True。               |\n",
    "| not    | not b      | 如果 b 为 True， not b 返回False   | not True 返回 False;  not False返回 True |"
   ]
  },
  {
   "cell_type": "code",
   "execution_count": 6,
   "id": "50baec8c",
   "metadata": {},
   "outputs": [
    {
     "name": "stdout",
     "output_type": "stream",
     "text": [
      "True\n",
      "False\n",
      "True\n",
      "True\n"
     ]
    }
   ],
   "source": [
    "a = 1\n",
    "b = 2\n",
    "c = 3\n",
    "print((a < b) and (b < c)) # True\n",
    "print((a > b) and (b < c)) # False\n",
    "print((a > b) or (b < c)) # True\n",
    "print(not (a > b)) # True"
   ]
  },
  {
   "cell_type": "markdown",
   "id": "89a30680",
   "metadata": {},
   "source": [
    "## 数学之间的逻辑运算符"
   ]
  },
  {
   "cell_type": "code",
   "execution_count": 7,
   "id": "c26b2343",
   "metadata": {},
   "outputs": [
    {
     "name": "stdout",
     "output_type": "stream",
     "text": [
      "0\n",
      "0\n",
      "0\n",
      "0\n",
      "2\n",
      "1\n",
      "1\n",
      "2\n",
      "1\n"
     ]
    }
   ],
   "source": [
    "a = 0\n",
    "b = 1\n",
    "c = 2\n",
    "\n",
    "# and运算符，只要有⼀个值为0，则结果为0，否则结果为最后⼀个⾮0数字\n",
    "print(a and b) # 0\n",
    "print(b and a) # 0\n",
    "print(a and c) # 0\n",
    "print(c and a) # 0\n",
    "print(b and c) # 2\n",
    "print(c and b) # 1\n",
    "\n",
    "# or运算符，只有所有值为0结果才为0，否则结果为第⼀个⾮0数字\n",
    "print(a or b) # 1\n",
    "print(a or c) # 2\n",
    "print(b or c) # 1"
   ]
  },
  {
   "cell_type": "markdown",
   "id": "b256b150",
   "metadata": {},
   "source": [
    "## 作业\n",
    "\n",
    "将print(2 and 3 or 4 and 0 or 7 or 8 and 2)每一步的运算拆开"
   ]
  },
  {
   "cell_type": "code",
   "execution_count": 8,
   "id": "3c8ee046",
   "metadata": {},
   "outputs": [
    {
     "name": "stdout",
     "output_type": "stream",
     "text": [
      "3\n",
      "3\n",
      "3\n",
      "3\n",
      "3\n",
      "3\n",
      "3\n"
     ]
    }
   ],
   "source": [
    "print(2 and 3 or 4 and 0 or 7 or 8 and 2)\n",
    "print(3 or 4 and 0 or 7 or 8 and 2)\n",
    "print(3 or 0 or 7 or 8 and 2)\n",
    "print(3 or 0 or 7 or 2)\n",
    "print(3 or 7 or 2)\n",
    "print(3 or 2)\n",
    "print(3)"
   ]
  }
 ],
 "metadata": {
  "kernelspec": {
   "display_name": "Python 3 (ipykernel)",
   "language": "python",
   "name": "python3"
  },
  "language_info": {
   "codemirror_mode": {
    "name": "ipython",
    "version": 3
   },
   "file_extension": ".py",
   "mimetype": "text/x-python",
   "name": "python",
   "nbconvert_exporter": "python",
   "pygments_lexer": "ipython3",
   "version": "3.11.2"
  }
 },
 "nbformat": 4,
 "nbformat_minor": 5
}
