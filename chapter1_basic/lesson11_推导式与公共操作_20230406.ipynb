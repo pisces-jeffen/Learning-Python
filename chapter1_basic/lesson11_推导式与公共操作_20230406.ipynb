{
 "cells": [
  {
   "cell_type": "markdown",
   "id": "f066b6dd",
   "metadata": {},
   "source": [
    "# 一：公共操作\n",
    "\n",
    "- 运算符\n",
    "- 公共⽅法\n",
    "- 容器类型转换\n",
    "\n",
    "## 运算符\n",
    "\n",
    "| 运算符 | 描述       | 支持的容器类型                 |\n",
    "| ------ | ---------- | ------------------------------ |\n",
    "| +      | 合并       | 字符串，列表，元组             |\n",
    "| *      | 复制       | 字符串，列表，元组             |\n",
    "| in     | 是否存在   | 字符串，列表，元组，字典，集合 |\n",
    "| not in | 是否不存在 | 字符串，列表，元组，字典，集合 |\n",
    "\n",
    "### +合并"
   ]
  },
  {
   "cell_type": "code",
   "execution_count": 1,
   "id": "cdfacd09",
   "metadata": {},
   "outputs": [
    {
     "name": "stdout",
     "output_type": "stream",
     "text": [
      "aabb\n",
      "[1, 2, 10, 20]\n",
      "(1, 2, 10, 20)\n"
     ]
    }
   ],
   "source": [
    "# 1. 字符串\n",
    "str1 = 'aa'\n",
    "str2 = 'bb'\n",
    "str3 = str1 + str2\n",
    "print(str3) # aabb\n",
    "\n",
    "# 2. 列表\n",
    "list1 = [1, 2]\n",
    "list2 = [10, 20]\n",
    "list3 = list1 + list2\n",
    "print(list3) # [1, 2, 10, 20]\n",
    "\n",
    "# 3. 元组\n",
    "t1 = (1, 2)\n",
    "t2 = (10, 20)\n",
    "t3 = t1 + t2\n",
    "print(t3) # (10, 20, 100, 200)"
   ]
  },
  {
   "cell_type": "markdown",
   "id": "5365e5e0",
   "metadata": {},
   "source": [
    "### 复制"
   ]
  },
  {
   "cell_type": "code",
   "execution_count": 2,
   "id": "00696126",
   "metadata": {},
   "outputs": [
    {
     "name": "stdout",
     "output_type": "stream",
     "text": [
      "----------\n",
      "['hello', 'hello', 'hello', 'hello']\n",
      "('world', 'world', 'world', 'world')\n"
     ]
    }
   ],
   "source": [
    "# 1. 字符串\n",
    "print('-' * 10) # ----------\n",
    "\n",
    "# 2. 列表\n",
    "list1 = ['hello']\n",
    "print(list1 * 4) # ['hello', 'hello', 'hello', 'hello']\n",
    "\n",
    "# 3. 元组\n",
    "t1 = ('world',)\n",
    "print(t1 * 4) # ('world', 'world', 'world', 'world')"
   ]
  },
  {
   "cell_type": "markdown",
   "id": "966297fb",
   "metadata": {},
   "source": [
    "### in或not in"
   ]
  },
  {
   "cell_type": "code",
   "execution_count": 3,
   "id": "2405c74a",
   "metadata": {},
   "outputs": [
    {
     "name": "stdout",
     "output_type": "stream",
     "text": [
      "True\n",
      "False\n",
      "True\n",
      "False\n",
      "False\n",
      "True\n"
     ]
    }
   ],
   "source": [
    "# 1. 字符串\n",
    "print('a' in 'abcd') # True\n",
    "print('a' not in 'abcd') # False\n",
    "\n",
    "# 2. 列表\n",
    "list1 = ['a', 'b', 'c', 'd']\n",
    "print('a' in list1) # True\n",
    "print('a' not in list1) # False\n",
    "\n",
    "# 3. 元组\n",
    "t1 = ('a', 'b', 'c', 'd')\n",
    "print('aa' in t1) # False\n",
    "print('aa' not in t1) # True"
   ]
  },
  {
   "cell_type": "markdown",
   "id": "824b482e",
   "metadata": {},
   "source": [
    "## 公共⽅法\n",
    "\n",
    "| **函数**               | **描述**                                                     |\n",
    "| ---------------------- | ------------------------------------------------------------ |\n",
    "| len()                  | 计算容器中元素个数                                           |\n",
    "| del 或 del()           | 删除                                                         |\n",
    "| max()                  | 返回容器中元素最⼤值                                         |\n",
    "| min()                  | 返回容器中元素最⼩值                                         |\n",
    "| range(start,end, step) | ⽣成从start到end的数字，步⻓为 step，供for循环使⽤           |\n",
    "| enumerate()            | 函数⽤于将⼀个可遍历的数据对象(如列表、元组或字符串)组合为⼀个索引序列，同时列出数据和数据下标，⼀般⽤在 for 循环当中。 |\n",
    "| sum()                  | 序列求和                                                     |\n",
    "| zip()                  | 合并系列                                                     |\n",
    "\n",
    "### max()"
   ]
  },
  {
   "cell_type": "code",
   "execution_count": 4,
   "id": "f90d1a4c",
   "metadata": {},
   "outputs": [
    {
     "name": "stdout",
     "output_type": "stream",
     "text": [
      "g\n",
      "40\n"
     ]
    }
   ],
   "source": [
    "# 1. 字符串\n",
    "str1 = 'abcdefg'\n",
    "print(max(str1)) # g\n",
    "\n",
    "# 2. 列表\n",
    "list1 = [10, 20, 30, 40]\n",
    "print(max(list1)) # 40"
   ]
  },
  {
   "cell_type": "markdown",
   "id": "1b424a54",
   "metadata": {},
   "source": [
    "### min()"
   ]
  },
  {
   "cell_type": "code",
   "execution_count": 5,
   "id": "adc60cd7",
   "metadata": {},
   "outputs": [
    {
     "name": "stdout",
     "output_type": "stream",
     "text": [
      "a\n",
      "10\n"
     ]
    }
   ],
   "source": [
    "# 1. 字符串\n",
    "str1 = 'abcdefg'\n",
    "print(min(str1)) # a\n",
    "\n",
    "# 2. 列表\n",
    "list1 = [10, 20, 30, 40]\n",
    "print(min(list1)) # 10"
   ]
  },
  {
   "cell_type": "markdown",
   "id": "669e6761",
   "metadata": {},
   "source": [
    "### ### enumerate()\n",
    "\n",
    "**语法**\n",
    "\n",
    "enumerate(可遍历对象, start=0)\n",
    "\n",
    "> **start参数⽤来设置遍历数据的下标的起始值，默认为0**"
   ]
  },
  {
   "cell_type": "code",
   "execution_count": 6,
   "id": "4b30052e",
   "metadata": {},
   "outputs": [
    {
     "name": "stdout",
     "output_type": "stream",
     "text": [
      "(0, 'a')\n",
      "(1, 'b')\n",
      "(2, 'c')\n",
      "(3, 'd')\n",
      "(4, 'e')\n",
      "下标是1, 对应的字符是a\n",
      "下标是2, 对应的字符是b\n",
      "下标是3, 对应的字符是c\n",
      "下标是4, 对应的字符是d\n",
      "下标是5, 对应的字符是e\n"
     ]
    }
   ],
   "source": [
    "list1 = ['a', 'b', 'c', 'd', 'e']\n",
    "for i in enumerate(list1):\n",
    "    print(i)\n",
    "\n",
    "for index, char in enumerate(list1, start=1):\n",
    "    print(f'下标是{index}, 对应的字符是{char}')"
   ]
  },
  {
   "cell_type": "markdown",
   "id": "56df550c",
   "metadata": {},
   "source": [
    "## 容器类型转换\n",
    "\n",
    "### tuple()\n",
    "\n",
    "> **将某个序列转换成元组**"
   ]
  },
  {
   "cell_type": "code",
   "execution_count": 7,
   "id": "9e211c0d",
   "metadata": {},
   "outputs": [
    {
     "name": "stdout",
     "output_type": "stream",
     "text": [
      "(10, 20, 30, 40, 50, 20)\n",
      "(400, 100, 500, 200, 300)\n"
     ]
    }
   ],
   "source": [
    "list1 = [10, 20, 30, 40, 50, 20]\n",
    "s1 = {100, 200, 300, 400, 500}\n",
    "print(tuple(list1))\n",
    "print(tuple(s1))"
   ]
  },
  {
   "cell_type": "markdown",
   "id": "cb44f127",
   "metadata": {},
   "source": [
    "### list()\n",
    "\n",
    "> **将某个序列转换成列表**"
   ]
  },
  {
   "cell_type": "code",
   "execution_count": 8,
   "id": "077786c4",
   "metadata": {},
   "outputs": [
    {
     "name": "stdout",
     "output_type": "stream",
     "text": [
      "['a', 'b', 'c', 'd', 'e']\n",
      "[400, 100, 500, 200, 300]\n"
     ]
    }
   ],
   "source": [
    "t1 = ('a', 'b', 'c', 'd', 'e')\n",
    "s1 = {100, 200, 300, 400, 500}\n",
    "print(list(t1))\n",
    "print(list(s1))"
   ]
  },
  {
   "cell_type": "markdown",
   "id": "c3afedf3",
   "metadata": {},
   "source": [
    "### set()\n",
    "\n",
    "> **将某个序列转换成集合**"
   ]
  },
  {
   "cell_type": "code",
   "execution_count": 9,
   "id": "da9cf765",
   "metadata": {},
   "outputs": [
    {
     "name": "stdout",
     "output_type": "stream",
     "text": [
      "{40, 10, 50, 20, 30}\n",
      "{'d', 'c', 'e', 'a', 'b'}\n"
     ]
    }
   ],
   "source": [
    "list1 = [10, 20, 30, 40, 50, 20]\n",
    "t1 = ('a', 'b', 'c', 'd', 'e')\n",
    "print(set(list1))\n",
    "print(set(t1))"
   ]
  },
  {
   "cell_type": "markdown",
   "id": "437f50ae",
   "metadata": {},
   "source": [
    "# 二：推导式\n",
    "\n",
    "- 列表推导式\n",
    "- 字典推导式\n",
    "- 集合推导式\n",
    "- 元组推导式\n",
    "\n",
    "~~~python\n",
    "[表达式 for 变量 in 列表 if 条件]\n",
    "{健：值 for 变量 in 字典.items() if 条件}\n",
    "{表达式 for 变量 in 集合 if 条件}\n",
    "(表达式 for 变量 in 元组 if 条件)\n",
    "~~~\n",
    "\n",
    "\n",
    "\n",
    "> **⽤⼀个表达式创建⼀个有规律的列表或控制⼀个有规律列表。**\n",
    "\n",
    "## 列表推导式\n",
    "\n",
    "**创建一个空列表，追加1到10这几个数字**\n",
    "\n",
    "* **for循环实现过程**"
   ]
  },
  {
   "cell_type": "code",
   "execution_count": 10,
   "id": "840556eb",
   "metadata": {},
   "outputs": [
    {
     "name": "stdout",
     "output_type": "stream",
     "text": [
      "[1, 2, 3, 4, 5, 6, 7, 8, 9, 10]\n"
     ]
    }
   ],
   "source": [
    "list1 = []\n",
    "for i in range(1,11):\n",
    "    list1.append(i)\n",
    "print(list1)"
   ]
  },
  {
   "cell_type": "markdown",
   "id": "c248871d",
   "metadata": {},
   "source": [
    "- **列表推导式实现过程**"
   ]
  },
  {
   "cell_type": "code",
   "execution_count": 11,
   "id": "6748265d",
   "metadata": {},
   "outputs": [
    {
     "name": "stdout",
     "output_type": "stream",
     "text": [
      "[1, 2, 3, 4, 5, 6, 7, 8, 9, 10]\n"
     ]
    }
   ],
   "source": [
    "list1 = [i for i in range(1,11)]\n",
    "print(list1)"
   ]
  },
  {
   "cell_type": "markdown",
   "id": "74bc2443",
   "metadata": {},
   "source": [
    "### 带if的列表推导式\n",
    "\n",
    "**将1到10的偶数添加到列表**\n",
    "\n",
    "> **方法一：利用步长实现**"
   ]
  },
  {
   "cell_type": "code",
   "execution_count": 12,
   "id": "763722d2",
   "metadata": {},
   "outputs": [
    {
     "name": "stdout",
     "output_type": "stream",
     "text": [
      "[0, 2, 4, 6, 8, 10]\n"
     ]
    }
   ],
   "source": [
    "list1 = [i for i in range(0, 11, 2)]\n",
    "print(list1)"
   ]
  },
  {
   "cell_type": "markdown",
   "id": "eef319e5",
   "metadata": {},
   "source": [
    "**方法二：if实现**"
   ]
  },
  {
   "cell_type": "code",
   "execution_count": 13,
   "id": "a7ca418d",
   "metadata": {},
   "outputs": [
    {
     "name": "stdout",
     "output_type": "stream",
     "text": [
      "[0, 2, 4, 6, 8]\n"
     ]
    }
   ],
   "source": [
    "list1 = [i for i in range(10) if i % 2 == 0]\n",
    "print(list1)"
   ]
  },
  {
   "cell_type": "markdown",
   "id": "1fd61f28",
   "metadata": {},
   "source": [
    "## 字典推导式\n",
    "\n",
    " **创建⼀个字典：字典key是1-5数字，value是这个数字的2次⽅**"
   ]
  },
  {
   "cell_type": "code",
   "execution_count": 14,
   "id": "c72d1e23",
   "metadata": {},
   "outputs": [
    {
     "name": "stdout",
     "output_type": "stream",
     "text": [
      "{1: 1, 2: 4, 3: 9, 4: 16, 5: 25}\n"
     ]
    }
   ],
   "source": [
    "# dict1 = {1: 1, 2: 4, 3: 9, 4: 16, 5: 25}\n",
    "dict1 = {i: i**2 for i in range(1, 6)}\n",
    "print(dict1)"
   ]
  },
  {
   "cell_type": "markdown",
   "id": "6c5e697f",
   "metadata": {},
   "source": [
    "**将两个列表变为⼀个字典**"
   ]
  },
  {
   "cell_type": "code",
   "execution_count": 15,
   "id": "c3843436",
   "metadata": {},
   "outputs": [
    {
     "name": "stdout",
     "output_type": "stream",
     "text": [
      "{'name': 'Tom', 'age': 20, 'sex': '男'}\n"
     ]
    }
   ],
   "source": [
    "list1 = ['name', 'age', 'sex']\n",
    "list2 = ['Tom', 20, '男']\n",
    "dict1 = {list1[i]: list2[i] for i in range(len(list1))}\n",
    "print(dict1)"
   ]
  },
  {
   "cell_type": "markdown",
   "id": "e2dfba7a",
   "metadata": {},
   "source": [
    "**提取字典中⽬标数据**"
   ]
  },
  {
   "cell_type": "code",
   "execution_count": 16,
   "id": "6d50d9b9",
   "metadata": {},
   "outputs": [
    {
     "name": "stdout",
     "output_type": "stream",
     "text": [
      "{'AUC': 268, 'DELL': 201}\n"
     ]
    }
   ],
   "source": [
    "computs = {'AUC': 268, 'HP': 125, 'DELL': 201, 'Lenovo': 199, 'acer': 99}\n",
    "# 需求：提取上述电脑数量⼤于等于200的字典数据\n",
    "\n",
    "count1 = {key: value for key, value in computs.items() if value >= 200}\n",
    "print(count1) # {'MBP': 268, 'DELL': 201}"
   ]
  },
  {
   "cell_type": "markdown",
   "id": "5f0ae8d7",
   "metadata": {},
   "source": [
    "## 集合推导式\n",
    "\n",
    "计算数字 1,2,3 的平方数"
   ]
  },
  {
   "cell_type": "code",
   "execution_count": 17,
   "id": "5ac38df0",
   "metadata": {},
   "outputs": [
    {
     "name": "stdout",
     "output_type": "stream",
     "text": [
      "{1, 4, 9}\n"
     ]
    }
   ],
   "source": [
    "setnew = {i**2 for i in (1,2,3)}\n",
    "print(setnew)"
   ]
  },
  {
   "cell_type": "markdown",
   "id": "c63632ae",
   "metadata": {},
   "source": [
    "输出非abc的字母"
   ]
  },
  {
   "cell_type": "code",
   "execution_count": 18,
   "id": "b9a33b76",
   "metadata": {},
   "outputs": [
    {
     "name": "stdout",
     "output_type": "stream",
     "text": [
      "{'d', 'r'}\n"
     ]
    }
   ],
   "source": [
    "a = {x for x in 'abracadabra' if x not in 'abc'}\n",
    "print(a) # {'d', 'r'}"
   ]
  },
  {
   "cell_type": "markdown",
   "id": "367e1aa8",
   "metadata": {},
   "source": [
    "## 元组推导式\n",
    "\n",
    "生成包含1到9数字的元组"
   ]
  },
  {
   "cell_type": "code",
   "execution_count": 19,
   "id": "7dfee546",
   "metadata": {},
   "outputs": [
    {
     "name": "stdout",
     "output_type": "stream",
     "text": [
      "<generator object <genexpr> at 0x000002770BB268E0>\n",
      "(1, 2, 3, 4, 5, 6, 7, 8, 9)\n",
      "(1, 2, 3, 4, 5, 6, 7, 8, 9)\n"
     ]
    }
   ],
   "source": [
    "a = (x for x in range(1,10))\n",
    "print(a)\n",
    "# 返回的是生成器对象\n",
    "# <generator object <genexpr> at 0x7faf6ee20a50> \n",
    "\n",
    "# 使用 tuple() 函数，可以直接将生成器对象转换成元组\n",
    "print(tuple(a))  # (1, 2, 3, 4, 5, 6, 7, 8, 9)\n",
    "\n",
    "print(tuple((x for x in range(1,10))))  # (1, 2, 3, 4, 5, 6, 7, 8, 9)"
   ]
  },
  {
   "cell_type": "markdown",
   "id": "57fefb16",
   "metadata": {},
   "source": [
    "# 作业\n",
    "\n",
    "**用列表推导式找出下面列表当中不包含“e”的放到新列表中**\n",
    "\n",
    "**list1 = [\"hello\",\"python\",\"love\",\"you\"]**"
   ]
  },
  {
   "cell_type": "code",
   "execution_count": 20,
   "id": "52f1f0a5",
   "metadata": {},
   "outputs": [
    {
     "name": "stdout",
     "output_type": "stream",
     "text": [
      "['python', 'you']\n"
     ]
    }
   ],
   "source": [
    "# 用列表推导式找出下面列表当中不包含“e”的放到新列表中\n",
    "list1 = [\"hello\",\"python\",\"love\",\"you\"]\n",
    "list2 = [i for i in list1 if \"e\" not in i]\n",
    "print(list2)"
   ]
  }
 ],
 "metadata": {
  "kernelspec": {
   "display_name": "Python 3 (ipykernel)",
   "language": "python",
   "name": "python3"
  },
  "language_info": {
   "codemirror_mode": {
    "name": "ipython",
    "version": 3
   },
   "file_extension": ".py",
   "mimetype": "text/x-python",
   "name": "python",
   "nbconvert_exporter": "python",
   "pygments_lexer": "ipython3",
   "version": "3.11.2"
  }
 },
 "nbformat": 4,
 "nbformat_minor": 5
}
