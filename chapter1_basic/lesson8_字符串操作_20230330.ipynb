{
 "cells": [
  {
   "cell_type": "markdown",
   "id": "cf05a704",
   "metadata": {},
   "source": [
    "# 字符串\n",
    "\n",
    "字符串是 Python 中最常用的数据类型。我们可以使用引号 ( **'** 或 **\"** ) 来创建字符串。创建字符串很简单，只要为变量分配一个值即可"
   ]
  },
  {
   "cell_type": "code",
   "execution_count": 1,
   "id": "61c42023",
   "metadata": {},
   "outputs": [
    {
     "name": "stdout",
     "output_type": "stream",
     "text": [
      "Hello World!\n",
      "Python Runoob\n",
      "hello world\n",
      "\t\ti love you\t\n"
     ]
    }
   ],
   "source": [
    "# 单引号\n",
    "var1 = 'Hello World!'\n",
    "print(var1)\n",
    "# 双引号\n",
    "var2 = \"Python Runoob\"\n",
    "print(var2)\n",
    "# 三引号\n",
    "var3 = \"\"\"hello world\n",
    "\t\ti love you\t\"\"\"\n",
    "print(var3)"
   ]
  },
  {
   "cell_type": "markdown",
   "id": "09a36ce0",
   "metadata": {},
   "source": [
    "# 字符串的输入输出\n",
    "\n",
    "**格式化输出**"
   ]
  },
  {
   "cell_type": "code",
   "execution_count": 2,
   "id": "630db8b0",
   "metadata": {},
   "outputs": [
    {
     "name": "stdout",
     "output_type": "stream",
     "text": [
      "我的名字是TOM\n",
      "我今年18岁了\n",
      "我的身高是180.50\n",
      "大家好，我叫TOM,我今年18岁，我的升高是180.5\n",
      "大家好，我叫TOM,我今年18岁，我的升高是180.5\n"
     ]
    }
   ],
   "source": [
    "name = \"TOM\"\n",
    "age = 18\n",
    "heigth = 180.5\n",
    "\n",
    "print(\"我的名字是%s\"%name)\n",
    "print(\"我今年%d岁了\"%age)\n",
    "print(\"我的身高是%.2f\"%heigth)\n",
    "print(\"大家好，我叫{},我今年{}岁，我的升高是{}\".format(name,age,heigth))\n",
    "print(f\"大家好，我叫{name},我今年{age}岁，我的升高是{heigth}\")"
   ]
  },
  {
   "cell_type": "markdown",
   "id": "dada7732",
   "metadata": {},
   "source": [
    "**输入input()**"
   ]
  },
  {
   "cell_type": "code",
   "execution_count": 3,
   "id": "6a4078a2",
   "metadata": {},
   "outputs": [
    {
     "name": "stdout",
     "output_type": "stream",
     "text": [
      "请输入你的名字：tom\n",
      "<class 'str'>\n"
     ]
    }
   ],
   "source": [
    "name = input(\"请输入你的名字：\")\n",
    "print(type(name))"
   ]
  },
  {
   "cell_type": "code",
   "execution_count": 4,
   "id": "0f4246bf",
   "metadata": {},
   "outputs": [
    {
     "name": "stdout",
     "output_type": "stream",
     "text": [
      "请输入你的年龄：18\n",
      "<class 'str'>\n"
     ]
    }
   ],
   "source": [
    "age = input(\"请输入你的年龄：\")\n",
    "print(type(age))"
   ]
  },
  {
   "cell_type": "markdown",
   "id": "08978ede",
   "metadata": {},
   "source": [
    "# 下标（索引）\n",
    "\n",
    "**“下标”** ⼜叫 **“索引”** ，就是编号。⽐如⽕⻋座位号，座位号的作⽤：按照编号快速找到对应的座位。\n",
    "\n",
    "> **索引是从0开始**"
   ]
  },
  {
   "cell_type": "code",
   "execution_count": 5,
   "id": "33d8dd83",
   "metadata": {},
   "outputs": [
    {
     "name": "stdout",
     "output_type": "stream",
     "text": [
      "e\n",
      "l\n",
      "o\n"
     ]
    }
   ],
   "source": [
    "var1 = \"hello python\"\n",
    "print(var1[1])\n",
    "print(var1[2])\n",
    "print(var1[4])"
   ]
  },
  {
   "cell_type": "markdown",
   "id": "76b6b85c",
   "metadata": {},
   "source": [
    "# 切片\n",
    "\n",
    "> **切⽚是指对操作的对象截取其中⼀部分的操作。字符串、列表、元组都⽀持切⽚操作**\n",
    "\n",
    "- 不包含结束位置下标对应的数据， 正负整数均可；\n",
    "- 步⻓是选取间隔，正负整数均可，默认步⻓为1。"
   ]
  },
  {
   "cell_type": "code",
   "execution_count": 6,
   "id": "f2369444",
   "metadata": {},
   "outputs": [
    {
     "name": "stdout",
     "output_type": "stream",
     "text": [
      "llo\n",
      "llo\n",
      "hello\n",
      "ellopython\n",
      "hellopython\n",
      "hloyhn\n",
      "hellopytho\n",
      "tho\n",
      "nohtypolleh\n",
      "nhyolh\n",
      "boo\n"
     ]
    }
   ],
   "source": [
    "name = \"hellopython\"\n",
    "\n",
    "print(name[2:5])    # 从2开始，到5结束(不会拿到5本身)\n",
    "print(name[2:5:1])  # 从2开始，到5结束，步长为1(不会拿到5本身)\n",
    "print(name[:5])     # 从0开始，下表为5结束(不会拿到本身)\n",
    "print(name[1:])     # 从1开始，一直到结束\n",
    "print(name[:])      # 拿取所有\n",
    "print(name[::2])    # 从0开始，步长为2，拿取所有\n",
    "print(name[:-1])    # 从0开始，到最后一个数结束(-1代表最后一个数，不包含-1本身)\n",
    "print(name[-4:-1])  # 从倒数第四个开始，到倒数第一个结束(不包含-1本身)\n",
    "print(name[::-1])   # 从-1开始，倒着打印字符串，步长为1\n",
    "print(name[::-2])   # 从-1开始，倒着打印字符串，步长为2\n",
    "print(var2[:-4:-1])"
   ]
  },
  {
   "cell_type": "markdown",
   "id": "ba58d15e",
   "metadata": {},
   "source": [
    "# 常用操作方法\n",
    "\n",
    "> **字符串的常⽤操作⽅法有查找、修改和判断三⼤类。**\n",
    "\n",
    " ## 查找\n",
    "\n",
    "所谓字符串查找⽅法即是查找⼦串在字符串中的位置或出现的次数。\n",
    "\n",
    "* **find()**：检测某个字符串是否包含在这个字符串中，如果在，返回这个字符串开始的位置下标，否则则返回-1。\n",
    "\n",
    "**语法**\n",
    "\n",
    "> **开始和结束位置下标可以省略，表示在整个字符串序列中查找。**"
   ]
  },
  {
   "cell_type": "code",
   "execution_count": 7,
   "id": "9319112b",
   "metadata": {},
   "outputs": [
    {
     "name": "stdout",
     "output_type": "stream",
     "text": [
      "6\n",
      "17\n",
      "-1\n"
     ]
    }
   ],
   "source": [
    "# 字符串序列.find(⼦串, 开始位置下标, 结束位置下标)\n",
    "\n",
    "var = \"hello and python and hello world\"\n",
    "\n",
    "print(var.find(\"and\"))          # 查找到and首字母下标\n",
    "print(var.find(\"and\",8,20))     # 查找到下标为8-20，and首字母下标\n",
    "print(var.find(\"ors\"))          # 查找ors，如果没有，则返回-1"
   ]
  },
  {
   "cell_type": "markdown",
   "id": "b569d1bd",
   "metadata": {},
   "source": [
    "* **index()**：检测某个⼦串是否包含在这个字符串中，如果在返回这个⼦串开始的位置下标，否则则报异常。\n",
    "\n",
    "**语法**\n",
    "\n",
    "> **注意：开始和结束位置下标可以省略，表示在整个字符串序列中查找。**"
   ]
  },
  {
   "cell_type": "code",
   "execution_count": 8,
   "id": "57f99867",
   "metadata": {},
   "outputs": [
    {
     "name": "stdout",
     "output_type": "stream",
     "text": [
      "6\n",
      "17\n"
     ]
    },
    {
     "ename": "ValueError",
     "evalue": "substring not found",
     "output_type": "error",
     "traceback": [
      "\u001b[1;31m---------------------------------------------------------------------------\u001b[0m",
      "\u001b[1;31mValueError\u001b[0m                                Traceback (most recent call last)",
      "Cell \u001b[1;32mIn[8], line 7\u001b[0m\n\u001b[0;32m      5\u001b[0m \u001b[38;5;28mprint\u001b[39m(var\u001b[38;5;241m.\u001b[39mindex(\u001b[38;5;124m\"\u001b[39m\u001b[38;5;124mand\u001b[39m\u001b[38;5;124m\"\u001b[39m))          \u001b[38;5;66;03m# 查找到and首字母下标\u001b[39;00m\n\u001b[0;32m      6\u001b[0m \u001b[38;5;28mprint\u001b[39m(var\u001b[38;5;241m.\u001b[39mindex(\u001b[38;5;124m\"\u001b[39m\u001b[38;5;124mand\u001b[39m\u001b[38;5;124m\"\u001b[39m,\u001b[38;5;241m8\u001b[39m,\u001b[38;5;241m20\u001b[39m))     \u001b[38;5;66;03m# 查找到下标为8-20，and首字母下标\u001b[39;00m\n\u001b[1;32m----> 7\u001b[0m \u001b[38;5;28mprint\u001b[39m(\u001b[43mvar\u001b[49m\u001b[38;5;241;43m.\u001b[39;49m\u001b[43mindex\u001b[49m\u001b[43m(\u001b[49m\u001b[38;5;124;43m\"\u001b[39;49m\u001b[38;5;124;43mors\u001b[39;49m\u001b[38;5;124;43m\"\u001b[39;49m\u001b[43m)\u001b[49m)          \u001b[38;5;66;03m# 查找ors，如果没有，则报错\u001b[39;00m\n",
      "\u001b[1;31mValueError\u001b[0m: substring not found"
     ]
    }
   ],
   "source": [
    "# 字符串序列.index(⼦串, 开始位置下标, 结束位置下标)\n",
    "\n",
    "var = \"hello and python and hello world\"\n",
    "\n",
    "print(var.index(\"and\"))          # 查找到and首字母下标\n",
    "print(var.index(\"and\",8,20))     # 查找到下标为8-20，and首字母下标\n",
    "print(var.index(\"ors\"))          # 查找ors，如果没有，则报错"
   ]
  },
  {
   "cell_type": "markdown",
   "id": "23ac86c1",
   "metadata": {},
   "source": [
    "* **count()**：返回某个⼦串在字符串中出现的次数\n",
    "\n",
    "**语法**\n",
    "\n",
    "> **注意：开始和结束位置下标可以省略，表示在整个字符串序列中查找。**"
   ]
  },
  {
   "cell_type": "code",
   "execution_count": 9,
   "id": "700db44c",
   "metadata": {},
   "outputs": [
    {
     "name": "stdout",
     "output_type": "stream",
     "text": [
      "2\n",
      "0\n",
      "1\n"
     ]
    }
   ],
   "source": [
    "# 字符串序列.count(⼦串, 开始位置下标, 结束位置下标) \n",
    "\n",
    "var = \"hello and python and hello world\"\n",
    "\n",
    "print(var.count(\"and\"))         # 查看在字符串var中，and出现了多少次\n",
    "print(var.count(\"ands\"))        # 如果没有，则返回0次\n",
    "print(var.count(\"and\",8,20))    # 在一个区间内查找and出现的次数"
   ]
  },
  {
   "cell_type": "markdown",
   "id": "d250913d",
   "metadata": {},
   "source": [
    "## 修改\n",
    "\n",
    "对字符串当中的内容进行修改\n",
    "\n",
    "* **replace()**:替换内容\n",
    "\n",
    "**语法**\n",
    "\n",
    "> **注意：替换次数如果超出⼦串出现次数，则替换次数为该⼦串出现次数。**"
   ]
  },
  {
   "cell_type": "code",
   "execution_count": 10,
   "id": "157a7851",
   "metadata": {},
   "outputs": [
    {
     "name": "stdout",
     "output_type": "stream",
     "text": [
      "hello 和 python 和 hello world\n",
      "hello 和 python and hello world\n"
     ]
    }
   ],
   "source": [
    "var = \"hello and python and hello world\"\n",
    "\n",
    "print(var.replace(\"and\",\"和\"))       # 将里面所有的and替换为和\n",
    "print(var.replace(\"and\",\"和\",1))     # 将and替换为和，只替换一次"
   ]
  },
  {
   "cell_type": "markdown",
   "id": "0cf20cf3",
   "metadata": {},
   "source": [
    "> 注意：数据按照是否能直接修改分为**可变类型**和**不可变类型**两种。字符串类型的数据修改的时候不能改变原有字符串，属于不能直接修改数据的类型即是不可变类型。"
   ]
  },
  {
   "cell_type": "markdown",
   "id": "e7c11ad2",
   "metadata": {},
   "source": [
    "* **split()**：按照指定字符分割字符串。\n",
    "\n",
    "**语法**\n",
    "\n",
    "> **注意：num表示的是分割字符出现的次数**"
   ]
  },
  {
   "cell_type": "code",
   "execution_count": 11,
   "id": "1247c798",
   "metadata": {},
   "outputs": [
    {
     "name": "stdout",
     "output_type": "stream",
     "text": [
      "['hello ', ' python ', ' hello world']\n",
      "['hello ', ' python and hello world']\n"
     ]
    }
   ],
   "source": [
    "# 字符串序列.split(分割字符, num)\n",
    "\n",
    "var = \"hello and python and hello world\"\n",
    "\n",
    "print(var.split(\"and\"))         # 以and为界，分隔开其他字符串，返回一个列表\n",
    "\n",
    "print(var.split(\"and\",1))       # 以and为界，分隔开其他字符串，只分割一次，返回一个列表"
   ]
  },
  {
   "cell_type": "markdown",
   "id": "0139f3b9",
   "metadata": {},
   "source": [
    "* **join()**：⽤⼀个字符或⼦串合并字符串，即是将多个字符串合并为⼀个新的**字符串**。\n",
    "\n",
    "**语法**"
   ]
  },
  {
   "cell_type": "code",
   "execution_count": 12,
   "id": "e8907701",
   "metadata": {},
   "outputs": [
    {
     "name": "stdout",
     "output_type": "stream",
     "text": [
      "hello__python__i__love__you\n",
      "hello,python,i,love,you\n",
      "i|love|python|hello|you\n"
     ]
    }
   ],
   "source": [
    "# 字符或⼦串.join(多字符串组成的序列)\n",
    "\n",
    "list1 = [\"hello\", \"python\", \"i\", \"love\", \"you\"]\n",
    "t1 = (\"hello\", \"python\", \"i\", \"love\", \"you\")\n",
    "set1 = {\"hello\", \"python\", \"i\", \"love\", \"you\"}\n",
    "\n",
    "print(\"__\".join(list1))     # 将列表转化为字符串，并且使用指定符号隔开\n",
    "print(\",\".join(t1))         # 将元组转化为字符串，并且使用指定符号隔开\n",
    "print(\"|\".join(set1))       # 将集合转化为字符串，并且使用指定符号隔开"
   ]
  },
  {
   "cell_type": "markdown",
   "id": "198f5b05",
   "metadata": {},
   "source": [
    "**大小写转换**\n",
    "\n",
    "- **capitalize()**：将字符串第⼀个字符转换成⼤写。"
   ]
  },
  {
   "cell_type": "code",
   "execution_count": 13,
   "id": "bceff710",
   "metadata": {},
   "outputs": [
    {
     "name": "stdout",
     "output_type": "stream",
     "text": [
      "Hello and python and hello world\n"
     ]
    }
   ],
   "source": [
    "var = \"hello and python and hello world\"\n",
    "\n",
    "print(var.capitalize())\t\t\t# 将字符串第⼀个字符转换成⼤写。"
   ]
  },
  {
   "cell_type": "markdown",
   "id": "93527d8b",
   "metadata": {},
   "source": [
    "**title()**：将字符串每个单词⾸字⺟转换成⼤写。"
   ]
  },
  {
   "cell_type": "code",
   "execution_count": 14,
   "id": "dd123177",
   "metadata": {},
   "outputs": [
    {
     "name": "stdout",
     "output_type": "stream",
     "text": [
      "Hello And Python And Hello World\n"
     ]
    }
   ],
   "source": [
    "var = \"hello and python and hello world\"\n",
    "\n",
    "print(var.title())\t\t\t\t# 将字符串每个单词⾸字⺟转换成⼤写。"
   ]
  },
  {
   "cell_type": "markdown",
   "id": "bf6ef19e",
   "metadata": {},
   "source": [
    "**upper()**：将字符串中⼩写转⼤写。"
   ]
  },
  {
   "cell_type": "code",
   "execution_count": 16,
   "id": "0f4715be",
   "metadata": {},
   "outputs": [
    {
     "name": "stdout",
     "output_type": "stream",
     "text": [
      "HELLO AND PYTHON AND HELLO WORLD\n"
     ]
    }
   ],
   "source": [
    "var = \"hello and python and hello world\"\n",
    "\n",
    "print(var.upper())\t\t\t\t# 将字符串中⼩写转⼤写。"
   ]
  },
  {
   "cell_type": "markdown",
   "id": "c602f3f4",
   "metadata": {},
   "source": [
    "**lower()**：将字符串中⼤写转⼩写。"
   ]
  },
  {
   "cell_type": "code",
   "execution_count": 17,
   "id": "2bd2c3da",
   "metadata": {},
   "outputs": [
    {
     "name": "stdout",
     "output_type": "stream",
     "text": [
      "hello and python and hello world\n"
     ]
    }
   ],
   "source": [
    "var = \"hello and python and hello world\"\n",
    "\n",
    "print(var.lower())\t\t\t\t# 将字符串中⼤写转⼩写。"
   ]
  },
  {
   "cell_type": "markdown",
   "id": "6f3ecf13",
   "metadata": {},
   "source": [
    "# 作业\n",
    "\n",
    "必做：\n",
    "\n",
    "输入一个字符var1 = \"hello python me love you\",\n",
    "\n",
    "将每个单词单独提取出来，并将首字母转化为大写\n",
    "\n",
    "选做：\n",
    "\n",
    "将字符串var2 = \"1a2b3c4d5e6f\"中的数字提取，并且累加"
   ]
  },
  {
   "cell_type": "code",
   "execution_count": 18,
   "id": "414769c2",
   "metadata": {},
   "outputs": [
    {
     "name": "stdout",
     "output_type": "stream",
     "text": [
      "Hello Python Me Love You \n",
      "var2中的数字累加=21\n"
     ]
    }
   ],
   "source": [
    "# 输入一个字符var1 = \"hello python me love you\", 将每个单词单独提取出来，并将首字母转化为大写\n",
    "var1 = \"hello python me love you\"\n",
    "var1 = var1.split(\" \")\n",
    "for i in var1:\n",
    "    print(i.capitalize(), end=\" \")\n",
    "print()\n",
    "\n",
    "# 将字符串var2 = \"1a2b3c4d5e6f\"中的数字提取，并且累加\n",
    "var2 = \"1a2b3c4d5e6f\"\n",
    "total = 0\n",
    "for i in var2:\n",
    "    if i.isdigit():\n",
    "        total += int(i)\n",
    "print(f\"var2中的数字累加={total}\")"
   ]
  }
 ],
 "metadata": {
  "kernelspec": {
   "display_name": "Python 3 (ipykernel)",
   "language": "python",
   "name": "python3"
  },
  "language_info": {
   "codemirror_mode": {
    "name": "ipython",
    "version": 3
   },
   "file_extension": ".py",
   "mimetype": "text/x-python",
   "name": "python",
   "nbconvert_exporter": "python",
   "pygments_lexer": "ipython3",
   "version": "3.11.2"
  }
 },
 "nbformat": 4,
 "nbformat_minor": 5
}
