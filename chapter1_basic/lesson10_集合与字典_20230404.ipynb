{
 "cells": [
  {
   "cell_type": "markdown",
   "id": "73317b51",
   "metadata": {},
   "source": [
    "# 集合与字典\n",
    "\n",
    "**创建集合**\n",
    "**集合数据的特点**\n",
    "**集合的常⻅操作**\n",
    "\n",
    "------\n",
    "\n",
    "**字典的应⽤场景**\n",
    "**创建字典的语法**\n",
    "**字典常⻅操作**\n",
    "**字典的循环遍历**\n",
    "\n",
    "## 创建集合\n",
    "\n",
    "> **创建集合使⽤ {} 或 set() ， 但是如果要创建空集合只能使⽤ set() ，因为 {} ⽤来创建空字典。**"
   ]
  },
  {
   "cell_type": "code",
   "execution_count": 1,
   "id": "c668b833",
   "metadata": {
    "scrolled": true
   },
   "outputs": [
    {
     "name": "stdout",
     "output_type": "stream",
     "text": [
      "{50, 20, 40, 10, 30}\n",
      "{50, 20, 40, 10, 30}\n",
      "{'d', 'f', 'a', 'g', 'b', 'c', 'e'}\n",
      "<class 'set'>\n",
      "<class 'dict'>\n"
     ]
    }
   ],
   "source": [
    "s1 = {10, 20, 30, 40, 50}\n",
    "print(s1)\n",
    "\n",
    "s2 = {10, 30, 20, 10, 30, 40, 30, 50}\n",
    "print(s2)\n",
    "\n",
    "s3 = set('abcdefg')\n",
    "print(s3)\n",
    "\n",
    "s4 = set()\n",
    "print(type(s4)) # set\n",
    "\n",
    "s5 = {}\n",
    "print(type(s5)) # dict"
   ]
  },
  {
   "cell_type": "markdown",
   "id": "8f023609",
   "metadata": {},
   "source": [
    "- 集合可以去掉重复数据；\n",
    "- 集合数据是⽆序的，故不⽀持下标\n",
    "\n",
    "\n",
    "\n",
    "## 集合常⻅操作⽅法\n",
    "\n",
    "### 增加数据\n",
    "\n",
    "* **add()**"
   ]
  },
  {
   "cell_type": "code",
   "execution_count": 2,
   "id": "af558079",
   "metadata": {},
   "outputs": [
    {
     "name": "stdout",
     "output_type": "stream",
     "text": [
      "{100, 10, 20}\n"
     ]
    }
   ],
   "source": [
    "s1 = {10, 20}\n",
    "s1.add(100)\n",
    "s1.add(10)\n",
    "print(s1)"
   ]
  },
  {
   "cell_type": "markdown",
   "id": "8a8b13d1",
   "metadata": {},
   "source": [
    "**因为集合有去重功能，所以，当向集合内追加的数据是当前集合已有数据的话，则不进⾏任何操作**\n",
    "\n",
    "* **update()**\n",
    "\n",
    "**追加的数据是序列。**"
   ]
  },
  {
   "cell_type": "code",
   "execution_count": 3,
   "id": "dabb6dff",
   "metadata": {},
   "outputs": [
    {
     "name": "stdout",
     "output_type": "stream",
     "text": [
      "{100, 'c', 200, 10, 'b', 20, 'a'}\n"
     ]
    }
   ],
   "source": [
    "s1 = {10, 20}\n",
    "# s1.update(100) # 报错\n",
    "s1.update([100, 200])\n",
    "s1.update('abc')\n",
    "print(s1)"
   ]
  },
  {
   "cell_type": "markdown",
   "id": "ac97ab5d",
   "metadata": {},
   "source": [
    "### 删除数据\n",
    "\n",
    "* **remove()**\n",
    "\n",
    "**删除集合中的指定数据，如果数据不存在则报错。**"
   ]
  },
  {
   "cell_type": "code",
   "execution_count": 4,
   "id": "cd7d71ee",
   "metadata": {},
   "outputs": [
    {
     "name": "stdout",
     "output_type": "stream",
     "text": [
      "{20}\n"
     ]
    }
   ],
   "source": [
    "s1 = {10, 20}\n",
    "s1.remove(10)\n",
    "print(s1)"
   ]
  },
  {
   "cell_type": "markdown",
   "id": "9807fce8",
   "metadata": {},
   "source": [
    "* **discard()**\n",
    "\n",
    "**删除集合中的指定数据，如果数据不存在也不会报错。**"
   ]
  },
  {
   "cell_type": "code",
   "execution_count": 5,
   "id": "52e90017",
   "metadata": {},
   "outputs": [
    {
     "name": "stdout",
     "output_type": "stream",
     "text": [
      "{20}\n",
      "{20}\n"
     ]
    }
   ],
   "source": [
    "s1 = {10, 20}\n",
    "s1.discard(10)\n",
    "print(s1)\n",
    "\n",
    "s1.discard(10)\n",
    "print(s1)"
   ]
  },
  {
   "cell_type": "markdown",
   "id": "7b84166b",
   "metadata": {},
   "source": [
    "* **pop()**\n",
    "\n",
    "**随机删除集合中的一个数据，并返回这个数据。**"
   ]
  },
  {
   "cell_type": "code",
   "execution_count": 6,
   "id": "48ea6355",
   "metadata": {},
   "outputs": [
    {
     "name": "stdout",
     "output_type": "stream",
     "text": [
      "50\n",
      "{20, 40, 10, 30}\n"
     ]
    }
   ],
   "source": [
    "s1 = {10, 20, 30, 40, 50}\n",
    "del_num = s1.pop()\n",
    "print(del_num)\n",
    "print(s1)"
   ]
  },
  {
   "cell_type": "markdown",
   "id": "c2677f6a",
   "metadata": {},
   "source": [
    "## 字典的应⽤场景\n",
    "\n",
    "**一个班级，100人，如何快速存储姓名，性别，年龄？**\n",
    "\n",
    "> **字典⾥⾯的数据是以键值对形式出现，字典数据和数据顺序没有关系，即字典不⽀持下标，后期⽆论数据如何变化，只需要按照对应的键的名字查找数据即可。**\n",
    "\n",
    "## 创建字典\n",
    "\n",
    "- **符号为⼤括号**\n",
    "- **数据为键值对形式出现**\n",
    "- **各个键值对之间⽤逗号隔开**\n",
    "\n",
    "**注意：⼀般称冒号前⾯的为键(key)，简称k；冒号后⾯的为值(value)，简称v。*\n",
    "\n",
    "## 字典常⻅操作\n",
    "\n",
    "### 增加数据\n",
    "\n",
    "**写法：字典序列[key] = 值**\n",
    "\n",
    "> **注意：如果key存在则修改这个key对应的值；如果key不存在则新增此键值对。**"
   ]
  },
  {
   "cell_type": "code",
   "execution_count": 7,
   "id": "6f881e92",
   "metadata": {},
   "outputs": [
    {
     "name": "stdout",
     "output_type": "stream",
     "text": [
      "{'name': '李四', 'age': 20, 'gender': '男'}\n",
      "{'name': '李四', 'age': 20, 'gender': '男', 'id': 110}\n"
     ]
    }
   ],
   "source": [
    "dict1 = {'name': '张三', 'age': 20, 'gender': '男'}\n",
    "dict1['name'] = '李四'\n",
    "print(dict1)\n",
    "# 结果：{'name': '李四', 'age': 20, 'gender': '男'}\n",
    "\n",
    "dict1['id'] = 110\n",
    "print(dict1)\n",
    "# {'name': '李四', 'age': 20, 'gender': '男', 'id': 110}"
   ]
  },
  {
   "cell_type": "markdown",
   "id": "2f6e5a88",
   "metadata": {},
   "source": [
    "> **注意：字典为可变类型。**\n",
    "\n",
    "\n",
    "\n",
    "### 删除数据\n",
    "\n",
    "* **del() / del：**\n",
    "\n",
    "**删除字典或删除字典中指定键值对**"
   ]
  },
  {
   "cell_type": "code",
   "execution_count": 8,
   "id": "1afd4c92",
   "metadata": {},
   "outputs": [
    {
     "name": "stdout",
     "output_type": "stream",
     "text": [
      "{'name': '张三', 'age': 20}\n"
     ]
    },
    {
     "ename": "NameError",
     "evalue": "name 'dict1' is not defined",
     "output_type": "error",
     "traceback": [
      "\u001b[1;31m---------------------------------------------------------------------------\u001b[0m",
      "\u001b[1;31mNameError\u001b[0m                                 Traceback (most recent call last)",
      "Cell \u001b[1;32mIn[8], line 7\u001b[0m\n\u001b[0;32m      4\u001b[0m \u001b[38;5;66;03m# {'name': '张三', 'age': 20}\u001b[39;00m\n\u001b[0;32m      6\u001b[0m \u001b[38;5;28;01mdel\u001b[39;00m dict1\n\u001b[1;32m----> 7\u001b[0m \u001b[38;5;28mprint\u001b[39m(\u001b[43mdict1\u001b[49m)\n\u001b[0;32m      8\u001b[0m \u001b[38;5;66;03m# NameError: name 'dict1' is not defined\u001b[39;00m\n",
      "\u001b[1;31mNameError\u001b[0m: name 'dict1' is not defined"
     ]
    }
   ],
   "source": [
    "dict1 = {'name': '张三', 'age': 20, 'gender': '男'}\n",
    "del dict1['gender']\n",
    "print(dict1)\n",
    "# {'name': '张三', 'age': 20}\n",
    "\n",
    "del dict1\n",
    "print(dict1)\n",
    "# NameError: name 'dict1' is not defined"
   ]
  },
  {
   "cell_type": "markdown",
   "id": "37f532eb",
   "metadata": {},
   "source": [
    "* **clear()**\n",
    "\n",
    "**清空字典**"
   ]
  },
  {
   "cell_type": "code",
   "execution_count": 9,
   "id": "cdcc7f41",
   "metadata": {},
   "outputs": [
    {
     "name": "stdout",
     "output_type": "stream",
     "text": [
      "{}\n"
     ]
    }
   ],
   "source": [
    "dict1 = {'name': '张三', 'age': 20, 'gender': '男'}\n",
    "dict1.clear()\n",
    "print(dict1) # {}"
   ]
  },
  {
   "cell_type": "markdown",
   "id": "7e499cd2",
   "metadata": {},
   "source": [
    "### 修改数据\n",
    "\n",
    "**写法：字典序列[key] = 值**\n",
    "\n",
    "> **注意：如果key存在则修改这个key对应的值 ；如果key不存在则新增此键值对。**"
   ]
  },
  {
   "cell_type": "code",
   "execution_count": 10,
   "id": "46b52233",
   "metadata": {},
   "outputs": [
    {
     "name": "stdout",
     "output_type": "stream",
     "text": [
      "{'name': '李四', 'age': 20, 'gender': '男'}\n"
     ]
    }
   ],
   "source": [
    "dict1 = {'name': '张三', 'age': 20, 'gender': '男'}\n",
    "dict1['name'] = '李四'\n",
    "print(dict1)\n",
    "# 结果：{'name': '李四', 'age': 20, 'gender': '男'}"
   ]
  },
  {
   "cell_type": "markdown",
   "id": "d139ab47",
   "metadata": {},
   "source": [
    "### 查找数据\n",
    "\n",
    "**key根据键查找值**"
   ]
  },
  {
   "cell_type": "code",
   "execution_count": 11,
   "id": "c50f0957",
   "metadata": {},
   "outputs": [
    {
     "name": "stdout",
     "output_type": "stream",
     "text": [
      "张三\n"
     ]
    },
    {
     "ename": "KeyError",
     "evalue": "'id'",
     "output_type": "error",
     "traceback": [
      "\u001b[1;31m---------------------------------------------------------------------------\u001b[0m",
      "\u001b[1;31mKeyError\u001b[0m                                  Traceback (most recent call last)",
      "Cell \u001b[1;32mIn[11], line 3\u001b[0m\n\u001b[0;32m      1\u001b[0m dict1 \u001b[38;5;241m=\u001b[39m {\u001b[38;5;124m'\u001b[39m\u001b[38;5;124mname\u001b[39m\u001b[38;5;124m'\u001b[39m: \u001b[38;5;124m'\u001b[39m\u001b[38;5;124m张三\u001b[39m\u001b[38;5;124m'\u001b[39m, \u001b[38;5;124m'\u001b[39m\u001b[38;5;124mage\u001b[39m\u001b[38;5;124m'\u001b[39m: \u001b[38;5;241m20\u001b[39m, \u001b[38;5;124m'\u001b[39m\u001b[38;5;124mgender\u001b[39m\u001b[38;5;124m'\u001b[39m: \u001b[38;5;124m'\u001b[39m\u001b[38;5;124m男\u001b[39m\u001b[38;5;124m'\u001b[39m}\n\u001b[0;32m      2\u001b[0m \u001b[38;5;28mprint\u001b[39m(dict1[\u001b[38;5;124m'\u001b[39m\u001b[38;5;124mname\u001b[39m\u001b[38;5;124m'\u001b[39m]) \u001b[38;5;66;03m# 张三\u001b[39;00m\n\u001b[1;32m----> 3\u001b[0m \u001b[38;5;28mprint\u001b[39m(\u001b[43mdict1\u001b[49m\u001b[43m[\u001b[49m\u001b[38;5;124;43m'\u001b[39;49m\u001b[38;5;124;43mid\u001b[39;49m\u001b[38;5;124;43m'\u001b[39;49m\u001b[43m]\u001b[49m) \u001b[38;5;66;03m# 报错\u001b[39;00m\n",
      "\u001b[1;31mKeyError\u001b[0m: 'id'"
     ]
    }
   ],
   "source": [
    "dict1 = {'name': '张三', 'age': 20, 'gender': '男'}\n",
    "print(dict1['name']) # 张三\n",
    "print(dict1['id']) # 报错"
   ]
  },
  {
   "cell_type": "markdown",
   "id": "e7b40364",
   "metadata": {},
   "source": [
    "**get()**"
   ]
  },
  {
   "cell_type": "code",
   "execution_count": 12,
   "id": "fdc985ec",
   "metadata": {},
   "outputs": [
    {
     "name": "stdout",
     "output_type": "stream",
     "text": [
      "张三\n",
      "110\n",
      "None\n"
     ]
    }
   ],
   "source": [
    "# 字典序列.get(key, 默认值)\n",
    "dict1 = {'name': '张三', 'age': 20, 'gender': '男'}\n",
    "print(dict1.get('name')) # 张三\n",
    "print(dict1.get('id', 110)) # 110\n",
    "print(dict1.get('id')) # None"
   ]
  },
  {
   "cell_type": "markdown",
   "id": "1fe2e292",
   "metadata": {},
   "source": [
    "# 作业"
   ]
  },
  {
   "cell_type": "code",
   "execution_count": 13,
   "id": "dd910c04",
   "metadata": {},
   "outputs": [
    {
     "name": "stdout",
     "output_type": "stream",
     "text": [
      "id:1423085,prodName:大白菜,prodCat:蔬菜\n",
      "id:1423084,prodName:娃娃菜,prodCat:蔬菜\n",
      "id:1423083,prodName:小白菜,prodCat:蔬菜\n",
      "id:1423082,prodName:圆白菜,prodCat:蔬菜\n",
      "id:1423081,prodName:圆白菜,prodCat:蔬菜\n",
      "id:1423080,prodName:紫甘蓝,prodCat:蔬菜\n",
      "id:1423079,prodName:芹菜,prodCat:蔬菜\n",
      "id:1423078,prodName:西芹,prodCat:蔬菜\n",
      "id:1423077,prodName:菠菜,prodCat:蔬菜\n",
      "id:1423076,prodName:莴笋,prodCat:蔬菜\n",
      "id:1423075,prodName:团生菜,prodCat:蔬菜\n",
      "id:1423074,prodName:散叶生菜,prodCat:蔬菜\n",
      "id:1423073,prodName:罗马生菜,prodCat:蔬菜\n",
      "id:1423072,prodName:油菜,prodCat:蔬菜\n",
      "id:1423071,prodName:香菜,prodCat:蔬菜\n",
      "id:1423070,prodName:茴香,prodCat:蔬菜\n",
      "id:1423069,prodName:韭菜,prodCat:蔬菜\n",
      "id:1423068,prodName:苦菊,prodCat:蔬菜\n",
      "id:1423067,prodName:油麦菜,prodCat:蔬菜\n",
      "id:1423066,prodName:散菜花,prodCat:蔬菜\n"
     ]
    }
   ],
   "source": [
    "# 将字典中的id，蔬菜名，美型获取\n",
    "dict2 = {\"current\": 1,\n",
    "         \"limit\": 20,\n",
    "         \"count\": 449685,\n",
    "         \"list\": [\n",
    "             {\"id\": 1423085, \"prodName\": \"大白菜\", \"prodCatid\": 1186, \"prodCat\": \"蔬菜\"},\n",
    "             {\"id\": 1423084, \"prodName\": \"娃娃菜\", \"prodCatid\": 1186, \"prodCat\": \"蔬菜\"},\n",
    "             {\"id\": 1423083, \"prodName\": \"小白菜\", \"prodCatid\": 1186, \"prodCat\": \"蔬菜\"},\n",
    "             {\"id\": 1423082, \"prodName\": \"圆白菜\", \"prodCatid\": 1186, \"prodCat\": \"蔬菜\"},\n",
    "             {\"id\": 1423081, \"prodName\": \"圆白菜\", \"prodCatid\": 1186, \"prodCat\": \"蔬菜\"},\n",
    "             {\"id\": 1423080, \"prodName\": \"紫甘蓝\", \"prodCatid\": 1186, \"prodCat\": \"蔬菜\"},\n",
    "             {\"id\": 1423079, \"prodName\": \"芹菜\", \"prodCatid\": 1186, \"prodCat\": \"蔬菜\"},\n",
    "             {\"id\": 1423078, \"prodName\": \"西芹\", \"prodCatid\": 1186, \"prodCat\": \"蔬菜\"},\n",
    "             {\"id\": 1423077, \"prodName\": \"菠菜\", \"prodCatid\": 1186, \"prodCat\": \"蔬菜\"},\n",
    "             {\"id\": 1423076, \"prodName\": \"莴笋\", \"prodCatid\": 1186, \"prodCat\": \"蔬菜\"},\n",
    "             {\"id\": 1423075, \"prodName\": \"团生菜\", \"prodCatid\": 1186, \"prodCat\": \"蔬菜\"},\n",
    "             {\"id\": 1423074, \"prodName\": \"散叶生菜\", \"prodCatid\": 1186, \"prodCat\": \"蔬菜\"},\n",
    "             {\"id\": 1423073, \"prodName\": \"罗马生菜\", \"prodCatid\": 1186, \"prodCat\": \"蔬菜\"},\n",
    "             {\"id\": 1423072, \"prodName\": \"油菜\", \"prodCatid\": 1186, \"prodCat\": \"蔬菜\"},\n",
    "             {\"id\": 1423071, \"prodName\": \"香菜\", \"prodCatid\": 1186, \"prodCat\": \"蔬菜\"},\n",
    "             {\"id\": 1423070, \"prodName\": \"茴香\", \"prodCatid\": 1186, \"prodCat\": \"蔬菜\"},\n",
    "             {\"id\": 1423069, \"prodName\": \"韭菜\", \"prodCatid\": 1186, \"prodCat\": \"蔬菜\"},\n",
    "             {\"id\": 1423068, \"prodName\": \"苦菊\", \"prodCatid\": 1186, \"prodCat\": \"蔬菜\"},\n",
    "             {\"id\": 1423067, \"prodName\": \"油麦菜\", \"prodCatid\": 1186, \"prodCat\": \"蔬菜\"},\n",
    "             {\"id\": 1423066, \"prodName\": \"散菜花\", \"prodCatid\": 1186, \"prodCat\": \"蔬菜\"}\n",
    "         ]\n",
    "         }\n",
    "# TODO 获取字典中的list\n",
    "list1 = dict2['list']\n",
    "# TODO 遍历list1\n",
    "for i in list1:\n",
    "    # TODO 获取id，prodName，prodCat\n",
    "    id = i['id']\n",
    "    prodName = i['prodName']\n",
    "    prodCat = i['prodCat']\n",
    "    # TODO 格式化输出id，prodName，prodCat\n",
    "    print(f\"id:{id},prodName:{prodName},prodCat:{prodCat}\")"
   ]
  }
 ],
 "metadata": {
  "kernelspec": {
   "display_name": "Python 3 (ipykernel)",
   "language": "python",
   "name": "python3"
  },
  "language_info": {
   "codemirror_mode": {
    "name": "ipython",
    "version": 3
   },
   "file_extension": ".py",
   "mimetype": "text/x-python",
   "name": "python",
   "nbconvert_exporter": "python",
   "pygments_lexer": "ipython3",
   "version": "3.11.2"
  }
 },
 "nbformat": 4,
 "nbformat_minor": 5
}
